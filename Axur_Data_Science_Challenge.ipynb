{
  "nbformat": 4,
  "nbformat_minor": 0,
  "metadata": {
    "colab": {
      "name": "Axur - Data Science - Challenge.ipynb",
      "private_outputs": true,
      "provenance": [],
      "toc_visible": true,
      "authorship_tag": "ABX9TyOxezd9Qkp+Z0ITvm/k/+jS",
      "include_colab_link": true
    },
    "kernelspec": {
      "name": "python3",
      "display_name": "Python 3"
    },
    "language_info": {
      "name": "python"
    }
  },
  "cells": [
    {
      "cell_type": "markdown",
      "metadata": {
        "id": "view-in-github",
        "colab_type": "text"
      },
      "source": [
        "<a href=\"https://colab.research.google.com/github/olavocarvlho/ironhack-codelabs/blob/master/Axur_Data_Science_Challenge.ipynb\" target=\"_parent\"><img src=\"https://colab.research.google.com/assets/colab-badge.svg\" alt=\"Open In Colab\"/></a>"
      ]
    },
    {
      "cell_type": "markdown",
      "metadata": {
        "id": "KTdbixQaMYL6"
      },
      "source": [
        "# Imports and helpers\n"
      ]
    },
    {
      "cell_type": "code",
      "metadata": {
        "id": "yaIa9nJjcUmY"
      },
      "source": [
        "# core libraries\n",
        "import numpy as np\n",
        "import pandas as pd\n",
        "pd.pandas.set_option('display.max_columns', None)\n",
        "\n",
        "\n",
        "# dataviz\n",
        "import matplotlib.pyplot as plt\n",
        "import seaborn as sns\n",
        "plt.style.use('fivethirtyeight')\n",
        "\n",
        "# google drive connector\n",
        "from google.colab import auth\n",
        "auth.authenticate_user()\n",
        "\n",
        "from google.colab import drive\n",
        "drive.mount('/content/drive')\n",
        "\n",
        "## Others\n",
        "import warnings\n",
        "warnings.filterwarnings('ignore')\n",
        "%matplotlib inline\n"
      ],
      "execution_count": null,
      "outputs": []
    },
    {
      "cell_type": "markdown",
      "metadata": {
        "id": "zm-QBAYeM4Nl"
      },
      "source": [
        "# Data loading and cleaning"
      ]
    },
    {
      "cell_type": "code",
      "metadata": {
        "id": "-vQ1VVE_eXUJ"
      },
      "source": [
        "df_diabetes =  pd.read_csv(\"/content/drive/MyDrive/DS_CHALLENGE/diabetic_data.csv\", sep=\";\", na_values=\"?\")\n",
        "print(df_diabetes.shape)"
      ],
      "execution_count": null,
      "outputs": []
    },
    {
      "cell_type": "code",
      "metadata": {
        "id": "Hc-hQE4IICjQ"
      },
      "source": [
        "list_codes = []\n",
        "with open(\"/content/drive/MyDrive/DS_CHALLENGE/diag_codes.txt\", \"r\") as diag_codes:\n",
        "  for line in diag_codes:\n",
        "    stripped_line = line.strip()\n",
        "    stripped_line = stripped_line.replace(\"('\", \"\")\n",
        "    stripped_line = stripped_line.replace(\"', \", \",\")\n",
        "    stripped_line = stripped_line.replace(\",(\", \",\")\n",
        "    stripped_line = stripped_line.replace(\"),\", \"\")\n",
        "    list_codes.append(stripped_line.split(','))\n",
        "\n",
        "df_codes = pd.DataFrame(list_codes, columns=[\"diagnostic\", \"range\"])\n",
        "\n",
        "df_codes.head(20)"
      ],
      "execution_count": null,
      "outputs": []
    },
    {
      "cell_type": "code",
      "metadata": {
        "id": "uYrwdwmlV6SO"
      },
      "source": [
        "def collapse_diag(df, column):\n",
        "    if df[column] == np.nan:\n",
        "        return \"Other\"\n",
        "    elif str(df[column])[0] == \"E\" :\n",
        "        return \"Other\"\n",
        "    elif str(df[column])[0] == \"V\" :\n",
        "        return \"Other\"\n",
        "    else:\n",
        "        num = float(df[column])\n",
        "        if np.trunc(num) <= 139 :\n",
        "            return \"infections\"\n",
        "        elif np.trunc(num) <= 239 :\n",
        "            return \"neoplasms\"\n",
        "        elif np.trunc(num) <= 279 :\n",
        "            return \"endocrine\"\n",
        "        elif np.trunc(num) <= 289 :\n",
        "            return \"blood\"\n",
        "        elif np.trunc(num) <= 319 :\n",
        "            return \"mental\"\n",
        "        elif np.trunc(num) <= 359 :\n",
        "            return \"nervous\"\n",
        "        elif np.trunc(num) <= 389 :\n",
        "            return \"sense\"\n",
        "        elif np.trunc(num) <= 459 :\n",
        "            return \"circulatory\"\n",
        "        elif np.trunc(num) <= 519 :\n",
        "            return \"respiratory\"\n",
        "        elif np.trunc(num) <= 579 :\n",
        "            return \"digestive\"\n",
        "        elif np.trunc(num) <= 629 :\n",
        "            return \"genitourinary\"\n",
        "        elif np.trunc(num) <= 679 :\n",
        "            return \"pregnancy\"\n",
        "        elif np.trunc(num) <= 709 :\n",
        "            return \"skin\"\n",
        "        elif np.trunc(num) <= 739 :\n",
        "            return \"musculoskeletal\"\n",
        "        elif np.trunc(num) <= 759 :\n",
        "            return \"congenital\"\n",
        "        elif np.trunc(num) <= 779 :\n",
        "            return \"perinatal\"\n",
        "        elif np.trunc(num) <= 799 :\n",
        "            return \"ill-defined\"\n",
        "        elif np.trunc(num) <= 999 :\n",
        "            return \"injury\"\n",
        "        else :\n",
        "            return np.trunc(num)"
      ],
      "execution_count": null,
      "outputs": []
    },
    {
      "cell_type": "markdown",
      "metadata": {
        "id": "8iT4lmf1NWBk"
      },
      "source": [
        "## Pre analysis\n",
        "\n",
        "The dataset Contains 101.766 observations and 21 features\n"
      ]
    },
    {
      "cell_type": "code",
      "metadata": {
        "id": "irzooeqQy7ON"
      },
      "source": [
        "df_diabetes.info()"
      ],
      "execution_count": null,
      "outputs": []
    },
    {
      "cell_type": "code",
      "metadata": {
        "id": "IYNuwcmyAFkj"
      },
      "source": [
        "df_diabetes.isnull().sum()"
      ],
      "execution_count": null,
      "outputs": []
    },
    {
      "cell_type": "code",
      "metadata": {
        "id": "YYgX0fBJNvH7"
      },
      "source": [
        "df_diabetes.sample(7).T "
      ],
      "execution_count": null,
      "outputs": []
    },
    {
      "cell_type": "code",
      "metadata": {
        "id": "GmaAly9WzRgO"
      },
      "source": [
        "for column in df_diabetes.columns:\n",
        "  print(column, df_diabetes[column].unique())\n",
        "  print('\\n') "
      ],
      "execution_count": null,
      "outputs": []
    },
    {
      "cell_type": "markdown",
      "metadata": {
        "id": "nfwdNZgIv453"
      },
      "source": [
        "## Drop bad data"
      ]
    },
    {
      "cell_type": "code",
      "metadata": {
        "id": "oe-uOz0J6Voe"
      },
      "source": [
        "df_diabetes[\"gender\"].value_counts()"
      ],
      "execution_count": null,
      "outputs": []
    },
    {
      "cell_type": "code",
      "metadata": {
        "id": "VIdm7Yh_5xd0"
      },
      "source": [
        "df_diabetes.drop(df_diabetes.loc[df_diabetes[\"gender\"]==\"Unknown/Invalid\"].index, axis=0, inplace=True)"
      ],
      "execution_count": null,
      "outputs": []
    },
    {
      "cell_type": "code",
      "metadata": {
        "id": "_gTUv-7OMyry"
      },
      "source": [
        "df_diabetes.drop(df_diabetes.loc[df_diabetes[\"race\"]==\"?\"].index, axis=0, inplace=True)"
      ],
      "execution_count": null,
      "outputs": []
    },
    {
      "cell_type": "code",
      "metadata": {
        "id": "SjDK7Oel8UXX"
      },
      "source": [
        "df_diabetes.drop(\"weight\", axis=1, inplace=True)"
      ],
      "execution_count": null,
      "outputs": []
    },
    {
      "cell_type": "code",
      "metadata": {
        "id": "IxyPmh-hIKxd"
      },
      "source": [
        "df_diabetes.drop(\"citoglipton\", axis=1, inplace=True)"
      ],
      "execution_count": null,
      "outputs": []
    },
    {
      "cell_type": "code",
      "metadata": {
        "id": "2JZr--OZKVLY"
      },
      "source": [
        "df_diabetes.drop(\"max_glu_serum\", axis=1, inplace=True)"
      ],
      "execution_count": null,
      "outputs": []
    },
    {
      "cell_type": "markdown",
      "metadata": {
        "id": "CcdOIFmH_K2S"
      },
      "source": [
        "## Collapse features"
      ]
    },
    {
      "cell_type": "markdown",
      "metadata": {
        "id": "2s16KYKmSf-F"
      },
      "source": [
        "### Age"
      ]
    },
    {
      "cell_type": "code",
      "metadata": {
        "id": "ZQzyj2kH7FN2"
      },
      "source": [
        "df_diabetes[\"age\"] = df_diabetes[\"age\"].str[1:3] \n",
        "df_diabetes[\"age\"] = df_diabetes[\"age\"].replace(\"0-\", \"0\")\n",
        "df_diabetes[\"age\"].value_counts()"
      ],
      "execution_count": null,
      "outputs": []
    },
    {
      "cell_type": "code",
      "metadata": {
        "id": "HVOMDPFfUbuB"
      },
      "source": [
        "df_diabetes[\"age\"] = df_diabetes[\"age\"].replace(\"0\", \"40\")\n",
        "df_diabetes[\"age\"] = df_diabetes[\"age\"].replace(\"10\", \"40\")\n",
        "df_diabetes[\"age\"] = df_diabetes[\"age\"].replace(\"20\", \"40\")\n",
        "df_diabetes[\"age\"] = df_diabetes[\"age\"].replace(\"30\", \"40\")"
      ],
      "execution_count": null,
      "outputs": []
    },
    {
      "cell_type": "markdown",
      "metadata": {
        "id": "ha1Udpr9SiYH"
      },
      "source": [
        "### Admission Type ID"
      ]
    },
    {
      "cell_type": "code",
      "metadata": {
        "id": "1HLtVhiX9Dc7"
      },
      "source": [
        "df_diabetes[\"admission_type_id\"] = df_diabetes[\"admission_type_id\"].map({1.0:\"Emergency\", \n",
        "                                                                         2.0:\"Emergency\", \n",
        "                                                                         3.0:\"Elective\", \n",
        "                                                                         4.0:\"New Born\", \n",
        "                                                                         5.0:\"Other\", \n",
        "                                                                         6.0:\"Other\", \n",
        "                                                                         7.0:\"Emergency\", \n",
        "                                                                         8.0:\"Other\"})\n",
        "\n",
        "print(df_diabetes[\"admission_type_id\"].value_counts())"
      ],
      "execution_count": null,
      "outputs": []
    },
    {
      "cell_type": "markdown",
      "metadata": {
        "id": "JP10hP68SlWf"
      },
      "source": [
        "### Medical Specialty"
      ]
    },
    {
      "cell_type": "code",
      "metadata": {
        "id": "2Qz7hxm2EAtm"
      },
      "source": [
        "print(df_diabetes[\"medical_specialty\"].value_counts(normalize=True))\n",
        "print(df_diabetes[\"medical_specialty\"].value_counts().nlargest(10))"
      ],
      "execution_count": null,
      "outputs": []
    },
    {
      "cell_type": "code",
      "metadata": {
        "id": "C_puyGXyD_TH"
      },
      "source": [
        "top_9 = [\"InternalMedicine\",\n",
        "\"Emergency/Trauma\",\n",
        "\"Family/GeneralPractice\",\n",
        "\"Cardiology\",\n",
        "\"Surgery-General\",\n",
        "\"Nephrology\",\n",
        "\"Orthopedics\",\n",
        "\"Orthopedics-Reconstructive\",\n",
        "\"Radiologist\"]\n",
        "\n",
        "df_diabetes.loc[~df_diabetes[\"medical_specialty\"].isin(top_9),\"medical_specialty\"] = \"Other\"\n",
        "print(df_diabetes[\"medical_specialty\"].value_counts(normalize=True))\n"
      ],
      "execution_count": null,
      "outputs": []
    },
    {
      "cell_type": "markdown",
      "metadata": {
        "id": "yoTqIUPNSobK"
      },
      "source": [
        "### Diagnosis 1 and 2"
      ]
    },
    {
      "cell_type": "code",
      "metadata": {
        "id": "VImSG7DTSq22"
      },
      "source": [
        "df_diabetes[\"diag_1_collapse\"] = df_diabetes.apply(collapse_diag, axis=1, column=\"diag_1\")\n",
        "df_diabetes[\"diag_2_collapse\"] = df_diabetes.apply(collapse_diag, axis=1, column=\"diag_2\")"
      ],
      "execution_count": null,
      "outputs": []
    },
    {
      "cell_type": "code",
      "metadata": {
        "id": "XOML65DLTGYh"
      },
      "source": [
        "df_diabetes[\"diag_1_collapse\"].value_counts(normalize=True)"
      ],
      "execution_count": null,
      "outputs": []
    },
    {
      "cell_type": "code",
      "metadata": {
        "id": "XbHzc9wdTMqx"
      },
      "source": [
        "df_diabetes[\"diag_2_collapse\"].value_counts(normalize=True)"
      ],
      "execution_count": null,
      "outputs": []
    },
    {
      "cell_type": "code",
      "metadata": {
        "id": "twXEDDYXddV8"
      },
      "source": [
        "df_diabetes.drop(\"diag_1\", axis=1, inplace=True)\n",
        "df_diabetes.drop(\"diag_2\", axis=1, inplace=True)"
      ],
      "execution_count": null,
      "outputs": []
    },
    {
      "cell_type": "markdown",
      "metadata": {
        "id": "b2Ah-vtHdhRt"
      },
      "source": [
        "### Max Glu Serum"
      ]
    },
    {
      "cell_type": "code",
      "metadata": {
        "id": "E0TXWOdrJtQ2"
      },
      "source": [
        "df_diabetes[\"max_glu_serum\"] = df_diabetes[\"max_glu_serum\"].replace({\">200\":\"High\",\n",
        "                                                                     \">300\":\"High\"}) "
      ],
      "execution_count": null,
      "outputs": []
    },
    {
      "cell_type": "markdown",
      "metadata": {
        "id": "RB4ObLkp_fWX"
      },
      "source": [
        "## Drop duplicates"
      ]
    },
    {
      "cell_type": "markdown",
      "metadata": {
        "id": "uXLJDoGrwBaD"
      },
      "source": [
        "# Exploration and Visualization"
      ]
    },
    {
      "cell_type": "markdown",
      "metadata": {
        "id": "dJX-WDzCwJoa"
      },
      "source": [
        "## Readmitted\n",
        "###### Type: **Categorical**\n",
        "Days to inpatient readmission. Represents our **target feature**.\n",
        "* No readmission  (~ 54%)\n",
        "* Readmitted within 30 days (~11%)\n",
        "* Readmitted after more than 30 days (~35%)\n",
        "\n",
        "\n",
        "Our target variable is imbalanced. Number of **\">30\"**  are quite less as compared to **\"NO\"** and **\"<30\"**.\n",
        "\n"
      ]
    },
    {
      "cell_type": "code",
      "metadata": {
        "id": "ad6Y2POm1Raw"
      },
      "source": [
        "sns.countplot(x=\"readmitted\", data=df_diabetes)\n",
        "plt.title(\"Distribution of Target Values\")\n",
        "plt.show()\n",
        "\n",
        "print(df_diabetes[\"readmitted\"].value_counts(normalize=True))"
      ],
      "execution_count": null,
      "outputs": []
    },
    {
      "cell_type": "markdown",
      "metadata": {
        "id": "V2XTM87FwORh"
      },
      "source": [
        "## Encounter ID\n",
        "###### Type: **Numeric**\n"
      ]
    },
    {
      "cell_type": "code",
      "metadata": {
        "id": "Yd3nQ6DywThq"
      },
      "source": [
        ""
      ],
      "execution_count": null,
      "outputs": []
    },
    {
      "cell_type": "markdown",
      "metadata": {
        "id": "Y13zzmJwwT4T"
      },
      "source": [
        "## Patient NBR\n",
        "###### Type: **Numeric**\n"
      ]
    },
    {
      "cell_type": "code",
      "metadata": {
        "id": "pcgZUgP2wX9V"
      },
      "source": [
        ""
      ],
      "execution_count": null,
      "outputs": []
    },
    {
      "cell_type": "markdown",
      "metadata": {
        "id": "f3GDWW2DwYH8"
      },
      "source": [
        "## Race\n",
        "###### Type: **Categorical**\n",
        "We have 5 different races value, these are;\n",
        "- Caucasian          \n",
        "- AfricanAmerican    \n",
        "- Hispanic            \n",
        "- Asian\n",
        "- Other \n"
      ]
    },
    {
      "cell_type": "code",
      "metadata": {
        "id": "RAX8HFk3wZVb"
      },
      "source": [
        "def plotRace():\n",
        "  sns.countplot(x=df_diabetes[\"race\"], data=df_diabetes)\n",
        "  plt.xticks(rotation=90)\n",
        "  plt.show()\n",
        "\n",
        "plotRace()\n",
        "print(\"Proportion of Race\")\n",
        "print(df_diabetes[\"race\"].value_counts(normalize=True))"
      ],
      "execution_count": null,
      "outputs": []
    },
    {
      "cell_type": "markdown",
      "metadata": {
        "id": "_w42jx274a9f"
      },
      "source": [
        "- **76 percent** of patients are Caucasian \n",
        "- Other **24 percent** is divided into African Americans, Hispanics, Asians and Others.\n",
        "\n",
        "Here we decided to collapse into **Caucasian**, **African American** and **Other**."
      ]
    },
    {
      "cell_type": "code",
      "metadata": {
        "id": "D0JL2enT4Z0l"
      },
      "source": [
        "df_diabetes[\"race\"] = df_diabetes[\"race\"].map({\"Asian\":\"Other\",\"Hispanic\":\"Other\"})\n",
        "plotRace()"
      ],
      "execution_count": null,
      "outputs": []
    },
    {
      "cell_type": "markdown",
      "metadata": {
        "id": "UKYMsiAowZee"
      },
      "source": [
        "## Gender\n",
        "###### Type: **Categorical**\n",
        "- We see a nearly equal distribution of **Gender**."
      ]
    },
    {
      "cell_type": "code",
      "metadata": {
        "id": "0SLA0cHxwa6a"
      },
      "source": [
        "sns.countplot(x=\"gender\", data=df_diabetes)\n",
        "plt.show()\n",
        "\n",
        "print(df_diabetes[\"gender\"].value_counts(normalize=True))"
      ],
      "execution_count": null,
      "outputs": []
    },
    {
      "cell_type": "markdown",
      "metadata": {
        "id": "tG2NxCpxwbFr"
      },
      "source": [
        "## Age\n",
        "###### Type: **Categorical**\n",
        "- We can state that we have **elderly** patients"
      ]
    },
    {
      "cell_type": "code",
      "metadata": {
        "id": "BIdke5nWwcKh"
      },
      "source": [
        "df_diabetes['age'].hist()\n",
        "\n",
        "print(df_diabetes[\"age\"].value_counts(normalize=True))"
      ],
      "execution_count": null,
      "outputs": []
    },
    {
      "cell_type": "markdown",
      "metadata": {
        "id": "f0QmXJ3ZwcUv"
      },
      "source": [
        "## Weight\n",
        "##### Type: **Numeric**<br>\n",
        "Description: Contains ~98% of missing values so there is no significance in filling those missing values, **dropped**."
      ]
    },
    {
      "cell_type": "markdown",
      "metadata": {
        "id": "RW9K9ahIwf4G"
      },
      "source": [
        "## Admission Type ID\n",
        "###### Type: **Categorical**\n",
        "Integer identifier corresponding to:\n",
        "- **1** Emergency\n",
        "- **2** Urgent\n",
        "- **3** Elective\n",
        "- **4** Newborn\n",
        "- **5** Not Available\n",
        "- **6** NULL\n",
        "- **7** Trauma Center\n",
        "- **8** Not Mapped\n",
        "\n",
        "We mapped **Urgent** and **Trauma Center** values as **Emergency** since they are all non elective admissions."
      ]
    },
    {
      "cell_type": "code",
      "metadata": {
        "id": "Zmn7qG0qwi5r"
      },
      "source": [
        ""
      ],
      "execution_count": null,
      "outputs": []
    },
    {
      "cell_type": "markdown",
      "metadata": {
        "id": "AWDKHngOwjDC"
      },
      "source": [
        "## Time in hospital\n",
        "###### Type: **Categorical**\n",
        "Number of days between admission and discharge."
      ]
    },
    {
      "cell_type": "code",
      "metadata": {
        "id": "lPha6kyxwmdi"
      },
      "source": [
        "sns.countplot(x=\"time_in_hospital\", data=df_diabetes)\n",
        "plt.show()\n",
        "\n",
        "print(df_diabetes[\"time_in_hospital\"].value_counts(normalize=True))"
      ],
      "execution_count": null,
      "outputs": []
    },
    {
      "cell_type": "markdown",
      "metadata": {
        "id": "FQL42NBHwm2S"
      },
      "source": [
        "## Medical Specialty\n",
        "###### Type: **Categorical**\n"
      ]
    },
    {
      "cell_type": "code",
      "metadata": {
        "id": "4PqIsMg2woog"
      },
      "source": [
        "sns.countplot(x=\"medical_specialty\", data=df_diabetes)\n",
        "plt.xticks(rotation=90)\n",
        "plt.show() \n",
        "\n"
      ],
      "execution_count": null,
      "outputs": []
    },
    {
      "cell_type": "markdown",
      "metadata": {
        "id": "qakO5feewo0c"
      },
      "source": [
        "## Number of Lab Procedures\n",
        "###### Type: **Numeric**\n",
        "Number of lab tests during the encounter"
      ]
    },
    {
      "cell_type": "code",
      "metadata": {
        "id": "dsji7eRWws75"
      },
      "source": [
        "fig, ax = plt.subplots()\n",
        "fig.set_size_inches(16, 9)\n",
        "\n",
        "sns.countplot(x=\"num_lab_procedures\", data=df_diabetes, ax=ax)\n",
        "plt.show() \n",
        "\n",
        "print(df_diabetes[\"num_lab_procedures\"].value_counts(normalize=True))"
      ],
      "execution_count": null,
      "outputs": []
    },
    {
      "cell_type": "code",
      "metadata": {
        "id": "LhMATfowG7RX"
      },
      "source": [
        "sns.boxplot(x=\"num_lab_procedures\", y=\"readmitted\", data=df_diabetes)"
      ],
      "execution_count": null,
      "outputs": []
    },
    {
      "cell_type": "markdown",
      "metadata": {
        "id": "VFydblOnwtGK"
      },
      "source": [
        "## Number of Procedures\n",
        "###### Type: **Numeric**\n",
        "Number of procedures during the encounter"
      ]
    },
    {
      "cell_type": "code",
      "metadata": {
        "id": "InTMC7rXwvmc"
      },
      "source": [
        "sns.countplot(x=\"num_procedures\", data=df_diabetes)\n",
        "plt.show() \n",
        "\n",
        "print(df_diabetes[\"num_procedures\"].value_counts(normalize=True))"
      ],
      "execution_count": null,
      "outputs": []
    },
    {
      "cell_type": "markdown",
      "metadata": {
        "id": "umNUxNx2wvwq"
      },
      "source": [
        "## Number of Medications\n",
        "###### Type: **Numeric**\n"
      ]
    },
    {
      "cell_type": "code",
      "metadata": {
        "id": "QvyFH4N9wy3P"
      },
      "source": [
        "fig, ax = plt.subplots()\n",
        "fig.set_size_inches(16, 9)\n",
        "\n",
        "sns.countplot(x=\"num_medications\", data=df_diabetes, ax=ax)\n",
        "plt.show() \n",
        "\n",
        "print(df_diabetes[\"num_medications\"].value_counts(normalize=True))"
      ],
      "execution_count": null,
      "outputs": []
    },
    {
      "cell_type": "code",
      "metadata": {
        "id": "CPbhsWfxGbDJ"
      },
      "source": [
        "sns.boxplot(x=\"num_medications\", y=\"readmitted\", data=df_diabetes)"
      ],
      "execution_count": null,
      "outputs": []
    },
    {
      "cell_type": "markdown",
      "metadata": {
        "id": "Vdk1d1edwzBJ"
      },
      "source": [
        "## Number of Emergency\n",
        "###### Type: **Numeric**\n"
      ]
    },
    {
      "cell_type": "code",
      "metadata": {
        "id": "aIHBxBgtw3Mv"
      },
      "source": [
        ""
      ],
      "execution_count": null,
      "outputs": []
    },
    {
      "cell_type": "markdown",
      "metadata": {
        "id": "ViDzr6vIw3Z8"
      },
      "source": [
        "## Diagnoses 1 and 2\n",
        "###### Type: **Categorical**\n",
        "\n"
      ]
    },
    {
      "cell_type": "code",
      "metadata": {
        "id": "As_pLxhjxTdj"
      },
      "source": [
        ""
      ],
      "execution_count": null,
      "outputs": []
    },
    {
      "cell_type": "markdown",
      "metadata": {
        "id": "ZGi8zRAixcWk"
      },
      "source": [
        "## Max Glu Serum\n",
        "###### Type: **Categorical**\n",
        "Indicates the range of the result or if the test was not taken.<br> \n",
        "Values: \n",
        "- “>200,” \n",
        "- “>300,”\n",
        "- “normal,” \n",
        "- “none” if not measured<br>\n",
        "\n",
        "Since  ~94% of values are none, there is no significance in keep this features, so **dropped**."
      ]
    },
    {
      "cell_type": "markdown",
      "metadata": {
        "id": "OgCjc_iXxTn5"
      },
      "source": [
        "## Number of diagnoses\n",
        "###### Type: **Numeric**\n"
      ]
    },
    {
      "cell_type": "code",
      "metadata": {
        "id": "LM5J5Jooxk7m"
      },
      "source": [
        ""
      ],
      "execution_count": null,
      "outputs": []
    },
    {
      "cell_type": "markdown",
      "metadata": {
        "id": "hVxJ_o-ixfA7"
      },
      "source": [
        "## Citoglipton\n",
        "###### Type: **Categorical**\n"
      ]
    },
    {
      "cell_type": "code",
      "metadata": {
        "id": "TT8RZB3_xmNI"
      },
      "source": [
        ""
      ],
      "execution_count": null,
      "outputs": []
    },
    {
      "cell_type": "markdown",
      "metadata": {
        "id": "jQujyEbMxmWP"
      },
      "source": [
        "## Insulin\n",
        "###### Type: **Categorical**\n"
      ]
    },
    {
      "cell_type": "code",
      "metadata": {
        "id": "6ZnU3v3wxpHg"
      },
      "source": [
        ""
      ],
      "execution_count": null,
      "outputs": []
    },
    {
      "cell_type": "markdown",
      "metadata": {
        "id": "96FMkSvPxpTT"
      },
      "source": [
        "## Diabetes Medication\n",
        "###### Type: **Categorical**\n",
        "Indicates if there was any diabetic medication prescribed."
      ]
    },
    {
      "cell_type": "code",
      "metadata": {
        "id": "ZEhdCOhFxuXR"
      },
      "source": [
        "sns.countplot(x=\"diabetesMed\", data=df_diabetes)\n",
        "plt.show()"
      ],
      "execution_count": null,
      "outputs": []
    },
    {
      "cell_type": "markdown",
      "metadata": {
        "id": "9iR1IVZnxuj_"
      },
      "source": [
        "# Feature Engineering"
      ]
    },
    {
      "cell_type": "markdown",
      "metadata": {
        "id": "3DDJjKZt1WDu"
      },
      "source": [
        "## Re-enconding"
      ]
    },
    {
      "cell_type": "code",
      "metadata": {
        "id": "p9AvIMcq1VnW"
      },
      "source": [
        "df_diabetes = df_diabetes.replace({\"NO\":1, \"<30\":2, \">30\":3})"
      ],
      "execution_count": null,
      "outputs": []
    },
    {
      "cell_type": "markdown",
      "metadata": {
        "id": "Pq0VsMs6xyXG"
      },
      "source": [
        "## Data Balancing"
      ]
    },
    {
      "cell_type": "code",
      "metadata": {
        "id": "1dSh7y4Px2nn"
      },
      "source": [
        ""
      ],
      "execution_count": null,
      "outputs": []
    },
    {
      "cell_type": "markdown",
      "metadata": {
        "id": "T4k1l8Gqx3AN"
      },
      "source": [
        ""
      ]
    },
    {
      "cell_type": "markdown",
      "metadata": {
        "id": "nEyOjOXvNgF_"
      },
      "source": [
        "### Display numeric variables and the percentage of missing values"
      ]
    },
    {
      "cell_type": "code",
      "metadata": {
        "id": "LQtM44AtkX3f"
      },
      "source": [
        "# show variables and the percentage of missing values \n",
        "\n",
        "num_features = []\n",
        "for column in df_diabetes.columns:\n",
        "    if df_diabetes[column].dtype == \"int64\":\n",
        "        num_features.append(column)\n",
        "        count_null = df_diabetes[column].isnull().sum()\n",
        "        print(column,\n",
        "              count_null,\n",
        "              np.round(count_null/df_diabetes.shape[0],2)*100)"
      ],
      "execution_count": null,
      "outputs": []
    },
    {
      "cell_type": "code",
      "metadata": {
        "id": "SnTbccvZSQm1"
      },
      "source": [
        "# exploring unique values in each column\n",
        "for col in df_diabetes.columns:\n",
        "  print(col, df_diabetes[col].unique())\n"
      ],
      "execution_count": null,
      "outputs": []
    },
    {
      "cell_type": "code",
      "metadata": {
        "id": "9uKvRXLGW39e"
      },
      "source": [
        "df_no_diag = df_diabetes[(df_diabetes['diag_1'] == '?') & (df_diabetes['diag_2'] == '?')]\n",
        "\n",
        "df_no_diag.index[0]"
      ],
      "execution_count": null,
      "outputs": []
    },
    {
      "cell_type": "code",
      "metadata": {
        "id": "NY1HR18DXfWm"
      },
      "source": [
        "df_diabetes_clean = df_diabetes[(df_diabetes[\"diag_1\"] != \"?\") & (df_diabetes[\"diag_2\"] != \"?\")]\n",
        "print(df_diabetes_clean.shape[0] - df_diabetes.shape[0])"
      ],
      "execution_count": null,
      "outputs": []
    },
    {
      "cell_type": "markdown",
      "metadata": {
        "id": "KRs8CWu3NplV"
      },
      "source": [
        "###  Look for discrete features"
      ]
    },
    {
      "cell_type": "code",
      "metadata": {
        "id": "asOyL1rCesOk"
      },
      "source": [
        "discrete_features = [feature for feature in num_features if len(df_diabetes_clean[feature].unique())<30]\n",
        "\n",
        "print(discrete_features)"
      ],
      "execution_count": null,
      "outputs": []
    },
    {
      "cell_type": "markdown",
      "metadata": {
        "id": "RquLY2dt-27l"
      },
      "source": [
        "#### Discrete features\n",
        "'admission_type_id'\n",
        "'time_in_hospital'\n",
        "'num_procedures'\n",
        "'number_diagnoses'\n",
        "\n",
        "#### "
      ]
    },
    {
      "cell_type": "code",
      "metadata": {
        "id": "P0YdXmkJnOb0"
      },
      "source": [
        "# Medical_specialty has 49% missing values, will drop for now and revisit if necessary\n",
        "# Weight has 97% of missing values, best thing is to just drop it.\n",
        "# Primary (diag_1), Secondary (diag_2) and Additional (diag_3) diagnoses were have very few missing values. Technically, if all three are missing, that’s bad data.\n",
        "# Since we are trying to predict readmissions, those patients who died during this hospital admission, have zero probability of readmission. \n",
        "\n",
        "df_diabetes_clean = df_diabetes.drop(['weight'], axis=1)"
      ],
      "execution_count": null,
      "outputs": []
    },
    {
      "cell_type": "code",
      "metadata": {
        "id": "3JBmmP5hRU6X"
      },
      "source": [
        ""
      ],
      "execution_count": null,
      "outputs": []
    }
  ]
}