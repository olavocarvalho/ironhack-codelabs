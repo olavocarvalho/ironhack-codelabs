{
 "cells": [
  {
   "cell_type": "code",
   "execution_count": 2,
   "metadata": {},
   "outputs": [],
   "source": [
    "#1. Import the NUMPY package under the name np.\n",
    "import numpy as np"
   ]
  },
  {
   "cell_type": "code",
   "execution_count": 3,
   "metadata": {},
   "outputs": [
    {
     "data": {
      "text/plain": [
       "'1.16.2'"
      ]
     },
     "execution_count": 3,
     "metadata": {},
     "output_type": "execute_result"
    }
   ],
   "source": [
    "#2. Print the NUMPY version and the configuration.\n",
    "\n",
    "np.version.version\n",
    "\n"
   ]
  },
  {
   "cell_type": "code",
   "execution_count": 4,
   "metadata": {},
   "outputs": [
    {
     "name": "stdout",
     "output_type": "stream",
     "text": [
      "[[[0.2020256  0.48858402 0.32721386 0.86840091 0.66527617]\n",
      "  [0.05315806 0.4936948  0.64776313 0.71582496 0.73968666]\n",
      "  [0.09391764 0.5976446  0.77466297 0.66339724 0.04300999]]\n",
      "\n",
      " [[0.27104477 0.21352873 0.20371046 0.6985439  0.31226022]\n",
      "  [0.90367591 0.64582871 0.25061713 0.01428002 0.24210229]\n",
      "  [0.87709864 0.86364866 0.94717681 0.34102991 0.45492566]]] [[[0.08976979 0.01978695 0.49016534 0.99737409 0.55039386]\n",
      "  [0.71745677 0.01056832 0.03317513 0.87025671 0.87612397]\n",
      "  [0.32632167 0.87560207 0.86030527 0.5423923  0.0244725 ]]\n",
      "\n",
      " [[0.95710785 0.11996266 0.64616026 0.25076022 0.36388632]\n",
      "  [0.54756593 0.91903605 0.58595959 0.89662438 0.12370205]\n",
      "  [0.0126601  0.76062153 0.60858001 0.9137966  0.5585143 ]]] [[[0.90319177 0.16151456 0.73227816 0.93525813 0.25464879]\n",
      "  [0.73740173 0.33516036 0.53164991 0.26582933 0.68641685]\n",
      "  [0.82286097 0.76311989 0.23152725 0.52754757 0.22236086]]\n",
      "\n",
      " [[0.70224156 0.43600726 0.39566097 0.8154623  0.49609851]\n",
      "  [0.05453363 0.91222973 0.92367388 0.71021656 0.45999111]\n",
      "  [0.60530743 0.81699465 0.23983079 0.78347152 0.97389877]]] [[[0.64293596 0.68149055 0.4088528  0.30134325 0.18931853]\n",
      "  [0.15751539 0.40775645 0.90342068 0.17377445 0.26637148]\n",
      "  [0.45518243 0.8003293  0.71348207 0.00849647 0.74490264]]\n",
      "\n",
      " [[0.599324   0.24223241 0.25769632 0.86673585 0.07058488]\n",
      "  [0.05847133 0.39022392 0.48479181 0.81079278 0.32561952]\n",
      "  [0.14445148 0.87656237 0.07251286 0.61230308 0.58042141]]]\n"
     ]
    }
   ],
   "source": [
    "#3. Generate a 2x3x5 3-dimensional array with random values. Assign the array to variable \"a\"\n",
    "# Challenge: there are at least three easy ways that use numpy to generate random arrays. How many ways can you find?\n",
    "\n",
    "a = np.random.random((2,3,5))\n",
    "b = np.random.random_sample((2,3,5))\n",
    "c = np.random.sample((2,3,5))\n",
    "d = np.random.ranf((2,3,5))\n",
    "\n",
    "#4. Print a.\n",
    "print(a,b,c,d)\n",
    "\n",
    "\n"
   ]
  },
  {
   "cell_type": "code",
   "execution_count": 5,
   "metadata": {},
   "outputs": [
    {
     "name": "stdout",
     "output_type": "stream",
     "text": [
      "[[[1 1 1]\n",
      "  [1 1 1]]\n",
      "\n",
      " [[1 1 1]\n",
      "  [1 1 1]]\n",
      "\n",
      " [[1 1 1]\n",
      "  [1 1 1]]\n",
      "\n",
      " [[1 1 1]\n",
      "  [1 1 1]]\n",
      "\n",
      " [[1 1 1]\n",
      "  [1 1 1]]]\n"
     ]
    }
   ],
   "source": [
    "#5. Create a 5x2x3 3-dimensional array with all values equaling 1.\n",
    "#Assign the array to variable \"b\"\n",
    "\n",
    "b = np.ones((5,2,3), dtype=int)\n",
    "\n",
    "#6. Print b.\n",
    "\n",
    "print(b)\n"
   ]
  },
  {
   "cell_type": "code",
   "execution_count": 6,
   "metadata": {},
   "outputs": [
    {
     "name": "stdout",
     "output_type": "stream",
     "text": [
      "True\n",
      "(2, 3, 5)\n",
      "(5, 2, 3)\n"
     ]
    }
   ],
   "source": [
    "#7. Do a and b have the same size? How do you prove that in Python code?\n",
    "\n",
    "print(a.shape == c.shape)\n",
    "\n",
    "print(a.shape)\n",
    "print(b.shape)\n",
    "\n",
    "#8. Are you able to add a and b? Why or why not?\n",
    "\n",
    "\n",
    "\n"
   ]
  },
  {
   "cell_type": "code",
   "execution_count": 53,
   "metadata": {},
   "outputs": [
    {
     "name": "stdout",
     "output_type": "stream",
     "text": [
      "[[[0.2020256  0.48858402 0.32721386 0.86840091 0.66527617]\n",
      "  [0.05315806 0.4936948  0.64776313 0.71582496 0.73968666]\n",
      "  [0.09391764 0.5976446  0.77466297 0.66339724 0.04300999]]\n",
      "\n",
      " [[0.27104477 0.21352873 0.20371046 0.6985439  0.31226022]\n",
      "  [0.90367591 0.64582871 0.25061713 0.01428002 0.24210229]\n",
      "  [0.87709864 0.86364866 0.94717681 0.34102991 0.45492566]]]\n",
      "------------------------------------------------------------\n",
      "[[[1.10521737 0.65009858 1.05949203 1.80365903 0.91992496]\n",
      "  [0.79055979 0.82885516 1.17941303 0.98165429 1.42610351]\n",
      "  [0.91677862 1.36076449 1.00619023 1.19094481 0.26537085]]\n",
      "\n",
      " [[0.97328633 0.649536   0.59937143 1.5140062  0.80835873]\n",
      "  [0.95820954 1.55805844 1.174291   0.72449659 0.7020934 ]\n",
      "  [1.48240607 1.68064331 1.18700761 1.12450142 1.42882443]]]\n"
     ]
    }
   ],
   "source": [
    "#9. Transpose b so that it has the same structure of a (i.e. become a 2x3x5 array). Assign the transposed array to varialbe \"c\".\n",
    "\n",
    "b = np.ones((2, 3, 5))\n",
    "\n",
    "#10. Try to add a and c. Now it should work. Assign the sum to varialbe \"d\". But why does it work now?\n",
    "\n",
    "d = np.sum((a, c), axis = 0)\n",
    "\n",
    "#11. Print a and d. Notice the difference and relation of the two array in terms of the values? Explain.\n",
    "print(a)\n",
    "print('-' * 60)\n",
    "print(d)\n",
    "  \n"
   ]
  },
  {
   "cell_type": "code",
   "execution_count": 50,
   "metadata": {},
   "outputs": [
    {
     "name": "stdout",
     "output_type": "stream",
     "text": [
      "[[[0.2020256  0.48858402 0.32721386 0.86840091 0.66527617]\n",
      "  [0.05315806 0.4936948  0.64776313 0.71582496 0.73968666]\n",
      "  [0.09391764 0.5976446  0.77466297 0.66339724 0.04300999]]\n",
      "\n",
      " [[0.27104477 0.21352873 0.20371046 0.6985439  0.31226022]\n",
      "  [0.90367591 0.64582871 0.25061713 0.01428002 0.24210229]\n",
      "  [0.87709864 0.86364866 0.94717681 0.34102991 0.45492566]]]\n",
      "------------------------------------------------------------\n",
      "[[[0.18246786 0.07891343 0.23961157 0.81217901 0.16941177]\n",
      "  [0.03919884 0.16546693 0.34438321 0.19028727 0.50773339]\n",
      "  [0.07728116 0.45607448 0.17935559 0.3499736  0.00956374]]\n",
      "\n",
      " [[0.1903389  0.09310008 0.08060028 0.56963621 0.15491183]\n",
      "  [0.04928073 0.58914415 0.23148849 0.01014191 0.1113649 ]\n",
      "  [0.53091432 0.70559633 0.22716216 0.26718722 0.44305154]]]\n"
     ]
    }
   ],
   "source": [
    "#12. Multiply a and c. Assign the result to e.\n",
    "\n",
    "e = np.multiply(a, c)\n",
    "\n",
    "#11. Print a and e. Notice the difference and relation of the two array in terms of the values? Explain.\n",
    "print(a)\n",
    "print('-' * 60)\n",
    "print(e)\n",
    "  \n",
    "\n",
    "\n",
    "#13. Does e equal to a? Why or why not?\n",
    "\n",
    "\n"
   ]
  },
  {
   "cell_type": "code",
   "execution_count": 54,
   "metadata": {},
   "outputs": [
    {
     "name": "stdout",
     "output_type": "stream",
     "text": [
      "[[[1.10521737 0.65009858 1.05949203 1.80365903 0.91992496]\n",
      "  [0.79055979 0.82885516 1.17941303 0.98165429 1.42610351]\n",
      "  [0.91677862 1.36076449 1.00619023 1.19094481 0.26537085]]\n",
      "\n",
      " [[0.97328633 0.649536   0.59937143 1.5140062  0.80835873]\n",
      "  [0.95820954 1.55805844 1.174291   0.72449659 0.7020934 ]\n",
      "  [1.48240607 1.68064331 1.18700761 1.12450142 1.42882443]]]\n",
      "0.26537085397518534\n"
     ]
    }
   ],
   "source": [
    "#14. Identify the max, min, and mean values in d. Assign those values to variables \"d_max\", \"d_min\", and \"d_mean\"\n",
    "\n",
    "d_max = np.amax(d)\n",
    "d_min = np.amin(d)\n",
    "d_mean = np.mean(d)\n",
    "# print(d_max, d_min, d_mean)\n",
    "\n",
    "#15. Now we want to label the values in d. First create an empty array \"f\" with the same shape (i.e. 2x3x5) as d using `np.empty`.\n",
    "\n",
    "f = np.empty((2,3,5))\n",
    "\n",
    "print(f)\n",
    "print(d_min)\n"
   ]
  },
  {
   "cell_type": "code",
   "execution_count": 40,
   "metadata": {},
   "outputs": [],
   "source": [
    "lst = [2,3,5,6,7,8,12,15,23]"
   ]
  },
  {
   "cell_type": "code",
   "execution_count": 56,
   "metadata": {},
   "outputs": [
    {
     "name": "stdout",
     "output_type": "stream",
     "text": [
      "[[[1.10521737 0.65009858 1.05949203 1.80365903 0.91992496]\n",
      "  [0.79055979 0.82885516 1.17941303 0.98165429 1.42610351]\n",
      "  [0.91677862 1.36076449 1.00619023 1.19094481 0.26537085]]\n",
      "\n",
      " [[0.97328633 0.649536   0.59937143 1.5140062  0.80835873]\n",
      "  [0.95820954 1.55805844 1.174291   0.72449659 0.7020934 ]\n",
      "  [1.48240607 1.68064331 1.18700761 1.12450142 1.42882443]]]\n",
      "[[[ 75.  25.  25. 100.  25.]\n",
      "  [ 25.  25.  75.  25.  75.]\n",
      "  [ 25.  75.  25.  75.  25.]]\n",
      "\n",
      " [[ 25.  25.  25.  75.  25.]\n",
      "  [ 25.  75.  75.  25.  25.]\n",
      "  [ 75.  75.  75.  75.  75.]]]\n"
     ]
    }
   ],
   "source": [
    "\"\"\"\n",
    "#16. Populate the values in f. For each value in d, if it's larger than d_min but smaller than d_mean, assign 25 to the corresponding value in f.\n",
    "If a value in d is larger than d_mean but smaller than d_max, assign 75 to the corresponding value in f.\n",
    "If a value equals to d_mean, assign 50 to the corresponding value in f.\n",
    "Assign 0 to the corresponding value(s) in f for d_min in d.\n",
    "Assign 100 to the corresponding value(s) in f for d_max in d.\n",
    "In the end, f should have only the following values: 0, 25, 50, 75, and 100.\n",
    "Note: you don't have to use Numpy in this question.\n",
    "\"\"\"\n",
    "\n",
    "for index1, _1stlayer in enumerate(d):\n",
    "    for index2, _2ndlayer in enumerate(_1stlayer):\n",
    "        for index3, _3rdlayer in enumerate(_2ndlayer):\n",
    "            if (_3rdlayer == d_mean):\n",
    "                print(_3rdlayer)\n",
    "                f[index1][index2][index3] = float(50)\n",
    "            if (_3rdlayer == d_max):\n",
    "                f[index1][index2][index3] = float(100)\n",
    "            if (_3rdlayer == d_min):\n",
    "                f[index1][index2][index3] = float(0)\n",
    "            if (_3rdlayer >= d_min) & (_3rdlayer < d_mean):\n",
    "                f[index1][index2][index3] = float(25)\n",
    "            if (_3rdlayer > d_mean) & (_3rdlayer < d_max):\n",
    "                f[index1][index2][index3] = float(75)\n",
    "print(d)\n",
    "print(f)\n"
   ]
  },
  {
   "cell_type": "code",
   "execution_count": 49,
   "metadata": {},
   "outputs": [
    {
     "data": {
      "text/plain": [
       "array([[[  1.10521737,  25.        ,  25.        , 100.        ,\n",
       "          25.        ],\n",
       "        [ 25.        ,  25.        ,   1.17941303,  25.        ,\n",
       "           1.42610351],\n",
       "        [ 25.        ,   1.36076449,  25.        ,   1.19094481,\n",
       "           0.26537085]],\n",
       "\n",
       "       [[ 25.        ,  25.        ,  25.        ,   1.5140062 ,\n",
       "          25.        ],\n",
       "        [ 25.        ,   1.55805844,   1.174291  ,  25.        ,\n",
       "          25.        ],\n",
       "        [  1.48240607,   1.68064331,   1.18700761,   1.12450142,\n",
       "           1.42882443]]])"
      ]
     },
     "execution_count": 49,
     "metadata": {},
     "output_type": "execute_result"
    }
   ],
   "source": [
    "f"
   ]
  },
  {
   "cell_type": "code",
   "execution_count": 10,
   "metadata": {},
   "outputs": [
    {
     "data": {
      "text/plain": [
       "'\\n#17. Print d and f. Do you have your expected f?\\nFor instance, if your d is:\\narray([[[1.85836099, 1.67064465, 1.62576044, 1.40243961, 1.88454931],\\n        [1.75354326, 1.69403643, 1.36729252, 1.61415071, 1.12104981],\\n        [1.72201435, 1.1862918 , 1.87078449, 1.7726778 , 1.88180042]],\\n\\n       [[1.44747908, 1.31673383, 1.02000951, 1.52218947, 1.97066381],\\n        [1.79129243, 1.74983003, 1.96028037, 1.85166831, 1.65450881],\\n        [1.18068344, 1.9587381 , 1.00656599, 1.93402165, 1.73514584]]])\\n\\nYour f should be:\\narray([[[ 75.,  75.,  75.,  25.,  75.],\\n        [ 75.,  75.,  25.,  25.,  25.],\\n        [ 75.,  25.,  75.,  75.,  75.]],\\n\\n       [[ 25.,  25.,  25.,  25., 100.],\\n        [ 75.,  75.,  75.,  75.,  75.],\\n        [ 25.,  75.,   0.,  75.,  75.]]])\\n'"
      ]
     },
     "execution_count": 10,
     "metadata": {},
     "output_type": "execute_result"
    }
   ],
   "source": [
    "\"\"\"\n",
    "#17. Print d and f. Do you have your expected f?\n",
    "For instance, if your d is:\n",
    "array([[[1.85836099, 1.67064465, 1.62576044, 1.40243961, 1.88454931],\n",
    "        [1.75354326, 1.69403643, 1.36729252, 1.61415071, 1.12104981],\n",
    "        [1.72201435, 1.1862918 , 1.87078449, 1.7726778 , 1.88180042]],\n",
    "\n",
    "       [[1.44747908, 1.31673383, 1.02000951, 1.52218947, 1.97066381],\n",
    "        [1.79129243, 1.74983003, 1.96028037, 1.85166831, 1.65450881],\n",
    "        [1.18068344, 1.9587381 , 1.00656599, 1.93402165, 1.73514584]]])\n",
    "\n",
    "Your f should be:\n",
    "array([[[ 75.,  75.,  75.,  25.,  75.],\n",
    "        [ 75.,  75.,  25.,  25.,  25.],\n",
    "        [ 75.,  25.,  75.,  75.,  75.]],\n",
    "\n",
    "       [[ 25.,  25.,  25.,  25., 100.],\n",
    "        [ 75.,  75.,  75.,  75.,  75.],\n",
    "        [ 25.,  75.,   0.,  75.,  75.]]])\n",
    "\"\"\""
   ]
  },
  {
   "cell_type": "code",
   "execution_count": 11,
   "metadata": {},
   "outputs": [
    {
     "data": {
      "text/plain": [
       "'\\n#18. Bonus question: instead of using numbers (i.e. 0, 25, 50, 75, and 100), how to use string values \\n(\"A\", \"B\", \"C\", \"D\", and \"E\") to label the array elements? You are expecting the result to be:\\narray([[[ \\'D\\',  \\'D\\',  \\'D\\',  \\'B\\',  \\'D\\'],\\n        [ \\'D\\',  \\'D\\',  \\'B\\',  \\'B\\',  \\'B\\'],\\n        [ \\'D\\',  \\'B\\',  \\'D\\',  \\'D\\',  \\'D\\']],\\n\\n       [[ \\'B\\',  \\'B\\',  \\'B\\',  \\'B\\',  \\'E\\'],\\n        [ \\'D\\',  \\'D\\',  \\'D\\',  \\'D\\',  \\'D\\'],\\n        [ \\'B\\',  \\'D\\',   \\'A\\',  \\'D\\', \\'D\\']]])\\nAgain, you don\\'t need Numpy in this question.\\n'"
      ]
     },
     "execution_count": 11,
     "metadata": {},
     "output_type": "execute_result"
    }
   ],
   "source": [
    "\"\"\"\n",
    "#18. Bonus question: instead of using numbers (i.e. 0, 25, 50, 75, and 100), how to use string values \n",
    "(\"A\", \"B\", \"C\", \"D\", and \"E\") to label the array elements? You are expecting the result to be:\n",
    "array([[[ 'D',  'D',  'D',  'B',  'D'],\n",
    "        [ 'D',  'D',  'B',  'B',  'B'],\n",
    "        [ 'D',  'B',  'D',  'D',  'D']],\n",
    "\n",
    "       [[ 'B',  'B',  'B',  'B',  'E'],\n",
    "        [ 'D',  'D',  'D',  'D',  'D'],\n",
    "        [ 'B',  'D',   'A',  'D', 'D']]])\n",
    "Again, you don't need Numpy in this question.\n",
    "\"\"\""
   ]
  }
 ],
 "metadata": {
  "kernelspec": {
   "display_name": "Python 3",
   "language": "python",
   "name": "python3"
  },
  "language_info": {
   "codemirror_mode": {
    "name": "ipython",
    "version": 3
   },
   "file_extension": ".py",
   "mimetype": "text/x-python",
   "name": "python",
   "nbconvert_exporter": "python",
   "pygments_lexer": "ipython3",
   "version": "3.7.3"
  }
 },
 "nbformat": 4,
 "nbformat_minor": 2
}
