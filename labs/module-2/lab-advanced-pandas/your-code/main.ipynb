{
 "cells": [
  {
   "cell_type": "markdown",
   "metadata": {},
   "source": [
    "# Before your start:\n",
    "- Read the README.md file\n",
    "- Comment as much as you can and use the resources (README.md file)\n",
    "- Happy learning!"
   ]
  },
  {
   "cell_type": "code",
   "execution_count": 3,
   "metadata": {},
   "outputs": [],
   "source": [
    "# import numpy and pandas\n",
    "import pandas as pd\n",
    "import numpy as np\n"
   ]
  },
  {
   "cell_type": "markdown",
   "metadata": {},
   "source": [
    "# Challenge 1 - Index Functions\n",
    "\n",
    "In this challenge, we will practice the advanced functions introduced in the lesson. However, before we start, we will load and evaluate our dataset."
   ]
  },
  {
   "cell_type": "code",
   "execution_count": 4,
   "metadata": {},
   "outputs": [],
   "source": [
    "# Run this code:\n",
    "\n",
    "admissions = pd.read_csv('labs/module-2/lab-advanced-pandas/Admission_Predict.csv')\n",
    "\n",
    "#to remove trailing spaces at the end of the column names\n",
    "admissions.columns = admissions.columns.str.rstrip()"
   ]
  },
  {
   "cell_type": "markdown",
   "metadata": {},
   "source": [
    "Let's evaluate the dataset by looking at the `head` function."
   ]
  },
  {
   "cell_type": "code",
   "execution_count": 5,
   "metadata": {},
   "outputs": [
    {
     "data": {
      "text/html": "<div>\n<style scoped>\n    .dataframe tbody tr th:only-of-type {\n        vertical-align: middle;\n    }\n\n    .dataframe tbody tr th {\n        vertical-align: top;\n    }\n\n    .dataframe thead th {\n        text-align: right;\n    }\n</style>\n<table border=\"1\" class=\"dataframe\">\n  <thead>\n    <tr style=\"text-align: right;\">\n      <th></th>\n      <th>Serial No.</th>\n      <th>GRE Score</th>\n      <th>TOEFL Score</th>\n      <th>University Rating</th>\n      <th>SOP</th>\n      <th>LOR</th>\n      <th>CGPA</th>\n      <th>Research</th>\n      <th>Chance of Admit</th>\n    </tr>\n  </thead>\n  <tbody>\n    <tr>\n      <th>0</th>\n      <td>1</td>\n      <td>337</td>\n      <td>118</td>\n      <td>4</td>\n      <td>4.5</td>\n      <td>4.5</td>\n      <td>9.65</td>\n      <td>1</td>\n      <td>0.92</td>\n    </tr>\n    <tr>\n      <th>1</th>\n      <td>2</td>\n      <td>316</td>\n      <td>104</td>\n      <td>3</td>\n      <td>3.0</td>\n      <td>3.5</td>\n      <td>8.00</td>\n      <td>1</td>\n      <td>0.72</td>\n    </tr>\n    <tr>\n      <th>2</th>\n      <td>3</td>\n      <td>322</td>\n      <td>110</td>\n      <td>3</td>\n      <td>3.5</td>\n      <td>2.5</td>\n      <td>8.67</td>\n      <td>1</td>\n      <td>0.80</td>\n    </tr>\n    <tr>\n      <th>3</th>\n      <td>4</td>\n      <td>314</td>\n      <td>103</td>\n      <td>2</td>\n      <td>2.0</td>\n      <td>3.0</td>\n      <td>8.21</td>\n      <td>0</td>\n      <td>0.65</td>\n    </tr>\n    <tr>\n      <th>4</th>\n      <td>5</td>\n      <td>330</td>\n      <td>115</td>\n      <td>5</td>\n      <td>4.5</td>\n      <td>3.0</td>\n      <td>9.34</td>\n      <td>1</td>\n      <td>0.90</td>\n    </tr>\n  </tbody>\n</table>\n</div>",
      "text/plain": "   Serial No.  GRE Score  TOEFL Score  University Rating  SOP  LOR  CGPA  \\\n0           1        337          118                  4  4.5  4.5  9.65   \n1           2        316          104                  3  3.0  3.5  8.00   \n2           3        322          110                  3  3.5  2.5  8.67   \n3           4        314          103                  2  2.0  3.0  8.21   \n4           5        330          115                  5  4.5  3.0  9.34   \n\n   Research  Chance of Admit  \n0         1             0.92  \n1         1             0.72  \n2         1             0.80  \n3         0             0.65  \n4         1             0.90  "
     },
     "execution_count": 5,
     "metadata": {},
     "output_type": "execute_result"
    }
   ],
   "source": [
    "# Your code here:\n",
    "admissions.head()\n"
   ]
  },
  {
   "cell_type": "markdown",
   "metadata": {},
   "source": [
    "Before beginning to work with this dataset and evaluating graduate admissions data, we will verify that there is no missing data in the dataset. Do this in the cell below."
   ]
  },
  {
   "cell_type": "code",
   "execution_count": 6,
   "metadata": {},
   "outputs": [
    {
     "data": {
      "text/plain": "Serial No.           0\nGRE Score            0\nTOEFL Score          0\nUniversity Rating    0\nSOP                  0\nLOR                  0\nCGPA                 0\nResearch             0\nChance of Admit      0\ndtype: int64"
     },
     "execution_count": 6,
     "metadata": {},
     "output_type": "execute_result"
    }
   ],
   "source": [
    "# Your code here:\n",
    "admissions.isna().sum()\n"
   ]
  },
  {
   "cell_type": "markdown",
   "metadata": {},
   "source": [
    "Interestingly, there is a column that uniquely identifies the applicants. This column is the serial number column. Instead of having our own index, we should make this column our index. Do this in the cell below. Keep the column in the dataframe in addition to making it an index."
   ]
  },
  {
   "cell_type": "code",
   "execution_count": 7,
   "metadata": {},
   "outputs": [],
   "source": [
    "# Your code here:\n",
    "admissions.set_index('Serial No.', inplace=True)"
   ]
  },
  {
   "cell_type": "markdown",
   "metadata": {},
   "source": [
    "Turns out that `GRE Score` and `CGPA` also uniquely identify the data. Show this in the cell below."
   ]
  },
  {
   "cell_type": "code",
   "execution_count": 8,
   "metadata": {},
   "outputs": [
    {
     "data": {
      "text/plain": "8.12309    1\n8.14314    1\n9.36322    1\n9.04310    1\n8.12317    1\n8.2316     1\n7.98311    1\n7.8296     1\n7.65295    1\n7.9297     1\n8.57317    1\n9.19336    1\n9.0311     1\n8.33302    1\n8.62320    1\n8.25314    1\n9.8339     1\n9.3329     1\n7.86298    1\n8.8322     1\n8.33315    1\n7.88298    1\n8.57320    1\n9.1332     1\n8.54298    1\n8.15317    1\n8.97321    1\n7.65303    1\n8.76324    1\n8.76325    1\n          ..\n8.7317     1\n7.97302    1\n7.84304    1\n9.02314    1\n8.45306    1\n9.66340    1\n8.21308    1\n8.12301    1\n8.46312    1\n7.6298     1\n8.67318    1\n8.0319     1\n8.33319    1\n8.01312    1\n8.54319    1\n9.68335    1\n8.65318    1\n9.15329    1\n9.45330    1\n7.5298     1\n6.8300     1\n8.53312    1\n8.49308    1\n8.64304    1\n8.9314     1\n8.64316    1\n8.66319    1\n9.0316     1\n8.64311    1\n8.12311    1\nLength: 385, dtype: int64"
     },
     "execution_count": 8,
     "metadata": {},
     "output_type": "execute_result"
    }
   ],
   "source": [
    "# Your code here:\n",
    "(admissions['CGPA'].map(str) + admissions['GRE Score'].map(str)).value_counts()\n"
   ]
  },
  {
   "cell_type": "markdown",
   "metadata": {},
   "source": [
    "Replace the index with an index comprised of two columns - `GRE Score` and `CGPA`. Remove the columns from the dataset as well. Make sure to use `inplace=True`."
   ]
  },
  {
   "cell_type": "markdown",
   "metadata": {},
   "source": [
    "Now change the index back to a sequence starting at zero using the `reset_index` function. Make sure to use `inplace=True`."
   ]
  },
  {
   "cell_type": "code",
   "execution_count": 9,
   "metadata": {},
   "outputs": [],
   "source": [
    "# Your code here:\n",
    "admissions.set_index(['CGPA', 'GRE Score'], inplace=True)\n",
    "admissions.reset_index(inplace=True)"
   ]
  },
  {
   "cell_type": "markdown",
   "metadata": {},
   "source": [
    "# Challenge 2 - Advanced Functions\n",
    "\n",
    "In this part of the lab, we would like to test complex conditions on the entire dataset at once. Let's start by finding the number of rows where the CGPA is higher than 9 and the student has conducted research."
   ]
  },
  {
   "cell_type": "code",
   "execution_count": 10,
   "metadata": {},
   "outputs": [
    {
     "data": {
      "text/plain": "CGPA                 101\nGRE Score            101\nTOEFL Score          101\nUniversity Rating    101\nSOP                  101\nLOR                  101\nResearch             101\nChance of Admit      101\ndtype: int64"
     },
     "execution_count": 10,
     "metadata": {},
     "output_type": "execute_result"
    }
   ],
   "source": [
    "# Your code here:\n",
    "admissions[(admissions['CGPA'] > 9) & (admissions['Research'] == 1)].count()\n"
   ]
  },
  {
   "cell_type": "markdown",
   "metadata": {},
   "source": [
    "Now return all the rows where the CGPA is greater than 9 and the SOP score is less than 3.5. Find the mean chance of admit for these applicants."
   ]
  },
  {
   "cell_type": "code",
   "execution_count": 11,
   "metadata": {},
   "outputs": [
    {
     "data": {
      "text/plain": "0.8019999999999999"
     },
     "execution_count": 11,
     "metadata": {},
     "output_type": "execute_result"
    }
   ],
   "source": [
    "# Your code here:\n",
    "admissions[(admissions['CGPA'] > 9) & (admissions['SOP'] < 3.5)]['Chance of Admit'].mean()"
   ]
  },
  {
   "cell_type": "markdown",
   "metadata": {},
   "source": [
    "We would like to create a deciding factor column for each student. We standardize several columns and then pick the most important factor from a lookup table. If the standardized value is above 0.8, the student will be accepted.\n",
    "\n",
    "We will start by creating a standardized column for `CGPA`, `GRE Score` and `LOR`. We will name these columns `CGPA_std`, `GRE_std`, and `LOR_std` respecively.\n",
    "\n",
    "Recall that standardizing a column is done by subtracting the mean of the column from all observations in the column and then dividing each observation in the column by the column's standard deviation.\n",
    "\n",
    "In the cell below, write a standardization function (a function that takes a column as input and returns a standardized column as output). Make sure to use the `numpy` versions of mean and standard deviation."
   ]
  },
  {
   "cell_type": "code",
   "execution_count": 13,
   "metadata": {},
   "outputs": [
    {
     "data": {
      "text/plain": "0      1.747900\n1     -0.991211\n2      0.121034\n3     -0.642597\n4      1.233279\n5     -0.659198\n6     -1.157218\n7     -0.991211\n8      0.004829\n9      0.668856\n10     0.834863\n11    -0.991211\n12    -0.659198\n13    -0.493191\n14     0.170836\n15    -0.991211\n16     0.336843\n17    -0.161177\n18    -0.327184\n19     1.498890\n20     1.830903\n21     1.996910\n22     0.336843\n23    -1.821244\n24    -2.319265\n25    -2.153258\n26    -0.825204\n27    -0.493191\n28     1.332883\n29     1.664896\n         ...   \n355   -0.592795\n356    1.034071\n357    1.698098\n358   -0.094775\n359   -1.572234\n360   -1.555634\n361   -1.937449\n362   -1.721640\n363   -1.572234\n364   -0.277382\n365    0.403245\n366    0.121034\n367    0.917866\n368   -0.559593\n369    1.897306\n370    2.030111\n371   -1.057614\n372   -0.825204\n373   -1.323224\n374   -0.260781\n375   -0.592795\n376    0.087833\n377    0.868064\n378    0.270440\n379    1.050671\n380    0.735259\n381    0.851463\n382    1.415886\n383    0.303641\n384    1.764500\nName: CGPA, Length: 385, dtype: float64"
     },
     "execution_count": 13,
     "metadata": {},
     "output_type": "execute_result"
    }
   ],
   "source": [
    "def standardize(col):\n",
    "    # This function takes a column from a dataframe and returns a standardized column by subtracting the column's mean\n",
    "    # and dividing by the column's standard deviation.\n",
    "    \n",
    "    # Your code here:\n",
    "    normalized_col = (col - np.mean(col)) / np.std(col)\n",
    "    return normalized_col "
   ]
  },
  {
   "cell_type": "markdown",
   "metadata": {},
   "source": [
    "Now create the standardized columns `CGPA_std`, `GRE_std`, and `LOR_std` and add them to the `admissions` dataframe."
   ]
  },
  {
   "cell_type": "code",
   "execution_count": 17,
   "metadata": {},
   "outputs": [],
   "source": [
    "# Your code here:\n",
    "\n",
    "admissions['CGPA_std'] = standardize(admissions['CGPA'])\n",
    "admissions['GRE_std'] = standardize(admissions['GRE Score'])\n",
    "admissions['LOR_std'] = standardize(admissions['LOR'])"
   ]
  },
  {
   "cell_type": "markdown",
   "metadata": {},
   "source": [
    "We will generate the decision choice at random using the code below. Please run the cell."
   ]
  },
  {
   "cell_type": "code",
   "execution_count": 27,
   "metadata": {},
   "outputs": [
    {
     "name": "stdout",
     "output_type": "stream",
     "text": "['CGPA_std', 'CGPA_std', 'CGPA_std', 'GRE_std', 'GRE_std', 'CGPA_std', 'CGPA_std', 'GRE_std', 'GRE_std', 'GRE_std', 'CGPA_std', 'CGPA_std', 'GRE_std', 'CGPA_std', 'LOR_std', 'LOR_std', 'LOR_std', 'LOR_std', 'LOR_std', 'LOR_std', 'LOR_std', 'LOR_std', 'CGPA_std', 'LOR_std', 'GRE_std', 'GRE_std', 'LOR_std', 'LOR_std', 'CGPA_std', 'GRE_std', 'LOR_std', 'LOR_std', 'LOR_std', 'GRE_std', 'LOR_std', 'LOR_std', 'LOR_std', 'GRE_std', 'CGPA_std', 'CGPA_std', 'CGPA_std', 'GRE_std', 'LOR_std', 'LOR_std', 'CGPA_std', 'GRE_std', 'LOR_std', 'CGPA_std', 'LOR_std', 'CGPA_std', 'LOR_std', 'LOR_std', 'CGPA_std', 'CGPA_std', 'GRE_std', 'CGPA_std', 'LOR_std', 'LOR_std', 'GRE_std', 'GRE_std', 'LOR_std', 'LOR_std', 'LOR_std', 'CGPA_std', 'LOR_std', 'CGPA_std', 'CGPA_std', 'CGPA_std', 'CGPA_std', 'LOR_std', 'GRE_std', 'LOR_std', 'LOR_std', 'GRE_std', 'LOR_std', 'CGPA_std', 'GRE_std', 'CGPA_std', 'CGPA_std', 'GRE_std', 'CGPA_std', 'CGPA_std', 'GRE_std', 'GRE_std', 'CGPA_std', 'GRE_std', 'LOR_std', 'LOR_std', 'CGPA_std', 'CGPA_std', 'CGPA_std', 'CGPA_std', 'GRE_std', 'GRE_std', 'LOR_std', 'GRE_std', 'CGPA_std', 'LOR_std', 'GRE_std', 'CGPA_std', 'LOR_std', 'LOR_std', 'GRE_std', 'GRE_std', 'LOR_std', 'GRE_std', 'GRE_std', 'CGPA_std', 'LOR_std', 'CGPA_std', 'GRE_std', 'GRE_std', 'LOR_std', 'LOR_std', 'CGPA_std', 'LOR_std', 'CGPA_std', 'LOR_std', 'GRE_std', 'GRE_std', 'GRE_std', 'CGPA_std', 'LOR_std', 'CGPA_std', 'GRE_std', 'CGPA_std', 'GRE_std', 'CGPA_std', 'LOR_std', 'GRE_std', 'CGPA_std', 'LOR_std', 'LOR_std', 'GRE_std', 'GRE_std', 'CGPA_std', 'LOR_std', 'GRE_std', 'CGPA_std', 'CGPA_std', 'LOR_std', 'GRE_std', 'GRE_std', 'GRE_std', 'LOR_std', 'GRE_std', 'LOR_std', 'CGPA_std', 'GRE_std', 'CGPA_std', 'GRE_std', 'GRE_std', 'LOR_std', 'LOR_std', 'LOR_std', 'GRE_std', 'GRE_std', 'LOR_std', 'GRE_std', 'LOR_std', 'CGPA_std', 'GRE_std', 'LOR_std', 'CGPA_std', 'GRE_std', 'LOR_std', 'GRE_std', 'CGPA_std', 'CGPA_std', 'LOR_std', 'LOR_std', 'CGPA_std', 'CGPA_std', 'LOR_std', 'LOR_std', 'GRE_std', 'CGPA_std', 'CGPA_std', 'GRE_std', 'LOR_std', 'LOR_std', 'GRE_std', 'CGPA_std', 'GRE_std', 'GRE_std', 'LOR_std', 'GRE_std', 'CGPA_std', 'GRE_std', 'LOR_std', 'LOR_std', 'GRE_std', 'CGPA_std', 'LOR_std', 'GRE_std', 'CGPA_std', 'LOR_std', 'LOR_std', 'CGPA_std', 'CGPA_std', 'GRE_std', 'LOR_std', 'CGPA_std', 'LOR_std', 'GRE_std', 'LOR_std', 'GRE_std', 'CGPA_std', 'CGPA_std', 'LOR_std', 'LOR_std', 'CGPA_std', 'GRE_std', 'LOR_std', 'CGPA_std', 'LOR_std', 'CGPA_std', 'CGPA_std', 'LOR_std', 'LOR_std', 'CGPA_std', 'GRE_std', 'LOR_std', 'LOR_std', 'LOR_std', 'LOR_std', 'GRE_std', 'CGPA_std', 'GRE_std', 'GRE_std', 'LOR_std', 'LOR_std', 'CGPA_std', 'LOR_std', 'GRE_std', 'GRE_std', 'CGPA_std', 'CGPA_std', 'LOR_std', 'GRE_std', 'CGPA_std', 'LOR_std', 'LOR_std', 'LOR_std', 'GRE_std', 'CGPA_std', 'LOR_std', 'CGPA_std', 'GRE_std', 'LOR_std', 'CGPA_std', 'CGPA_std', 'GRE_std', 'GRE_std', 'GRE_std', 'LOR_std', 'CGPA_std', 'CGPA_std', 'GRE_std', 'CGPA_std', 'GRE_std', 'GRE_std', 'CGPA_std', 'LOR_std', 'GRE_std', 'GRE_std', 'LOR_std', 'LOR_std', 'GRE_std', 'CGPA_std', 'CGPA_std', 'GRE_std', 'GRE_std', 'CGPA_std', 'CGPA_std', 'CGPA_std', 'CGPA_std', 'LOR_std', 'LOR_std', 'GRE_std', 'CGPA_std', 'GRE_std', 'CGPA_std', 'CGPA_std', 'CGPA_std', 'GRE_std', 'CGPA_std', 'CGPA_std', 'LOR_std', 'GRE_std', 'CGPA_std', 'CGPA_std', 'CGPA_std', 'LOR_std', 'GRE_std', 'CGPA_std', 'LOR_std', 'CGPA_std', 'LOR_std', 'GRE_std', 'LOR_std', 'GRE_std', 'CGPA_std', 'CGPA_std', 'LOR_std', 'GRE_std', 'CGPA_std', 'GRE_std', 'LOR_std', 'LOR_std', 'CGPA_std', 'GRE_std', 'CGPA_std', 'GRE_std', 'GRE_std', 'GRE_std', 'GRE_std', 'LOR_std', 'CGPA_std', 'LOR_std', 'GRE_std', 'GRE_std', 'LOR_std', 'LOR_std', 'CGPA_std', 'GRE_std', 'LOR_std', 'CGPA_std', 'GRE_std', 'LOR_std', 'CGPA_std', 'LOR_std', 'CGPA_std', 'GRE_std', 'LOR_std', 'LOR_std', 'LOR_std', 'GRE_std', 'LOR_std', 'CGPA_std', 'CGPA_std', 'CGPA_std', 'CGPA_std', 'LOR_std', 'LOR_std', 'LOR_std', 'GRE_std', 'GRE_std', 'LOR_std', 'LOR_std', 'CGPA_std', 'LOR_std', 'CGPA_std', 'CGPA_std', 'GRE_std', 'LOR_std', 'GRE_std', 'LOR_std', 'GRE_std', 'CGPA_std', 'GRE_std', 'LOR_std', 'CGPA_std', 'CGPA_std', 'LOR_std', 'LOR_std', 'CGPA_std', 'GRE_std', 'CGPA_std', 'GRE_std', 'LOR_std', 'GRE_std', 'LOR_std', 'LOR_std', 'CGPA_std', 'CGPA_std', 'LOR_std', 'GRE_std', 'LOR_std', 'GRE_std', 'LOR_std', 'GRE_std', 'GRE_std', 'CGPA_std', 'GRE_std']\n"
    }
   ],
   "source": [
    "# Run this code:\n",
    "\n",
    "from random import choices\n",
    "std_columns = ['CGPA_std', 'GRE_std', 'LOR_std']\n",
    "\n",
    "decision_choice = choices(std_columns, k=admissions.shape[0])"
   ]
  },
  {
   "cell_type": "markdown",
   "metadata": {},
   "source": [
    "Now create the deciding column using the `lookup` function. The lookup column is `decision_choice` found above. Call the column resulting from the lookup function `deciding_column` and add it to the `admissions` dataframe."
   ]
  },
  {
   "cell_type": "code",
   "execution_count": 28,
   "metadata": {},
   "outputs": [],
   "source": [
    "# Your code here:\n",
    "\n",
    "admissions['decision_choice'] = admissions.lookup(admissions.index, decision_choice)\n",
    "\n"
   ]
  },
  {
   "cell_type": "markdown",
   "metadata": {},
   "source": [
    "Create a column called `decision` in the `admissions` dataframe. Assign 1 to this column if the value of `deciding_column` is greater than 0.8 and 0 otherwise."
   ]
  },
  {
   "cell_type": "code",
   "execution_count": 30,
   "metadata": {},
   "outputs": [],
   "source": [
    "# Your code here:\n",
    "admissions['decision'] = (admissions['decision_choice'] > 0.8).astype(int)"
   ]
  },
  {
   "cell_type": "markdown",
   "metadata": {},
   "source": [
    "How many applicants will be accepted to the program using the decision column? Compute the result below."
   ]
  },
  {
   "cell_type": "code",
   "execution_count": 31,
   "metadata": {},
   "outputs": [
    {
     "data": {
      "text/plain": "0    300\n1     85\nName: decision, dtype: int64"
     },
     "execution_count": 31,
     "metadata": {},
     "output_type": "execute_result"
    }
   ],
   "source": [
    "# Your code here:\n",
    "admissions['decision'].value_counts()"
   ]
  },
  {
   "cell_type": "markdown",
   "metadata": {},
   "source": [
    "# Challenge 3 - Method Chaining\n",
    "\n",
    "To increase our coding efficiency, let's make a number of changes to our dataframe in one line of code.\n",
    "\n",
    "In the cell below, remove all non character symbols from the column names, replace all spaces in column names to underscores, and change all upper case characters to lower case. Assign these new column values to `admissions.columns`."
   ]
  },
  {
   "cell_type": "code",
   "execution_count": 35,
   "metadata": {},
   "outputs": [],
   "source": [
    "# Your code here:\n",
    "import re\n",
    "def label_sanitizer(label):\n",
    "    return re.sub(r'[^\\w\\s]', '', label).lower().replace(' ', '_')\n",
    "\n",
    "admissions.columns = [label_sanitizer(col) for col in admissions.columns]\n"
   ]
  },
  {
   "cell_type": "markdown",
   "metadata": {},
   "source": [
    "In the cell below, give all student with a university rating of 4 or higher a 10 point boost on their GRE score and split the column into 4 bins using the `cut` function. Assign this new score to the variable `adjusted_gre`."
   ]
  },
  {
   "cell_type": "code",
   "execution_count": 15,
   "metadata": {},
   "outputs": [],
   "source": [
    "# Your code here:\n",
    "\n"
   ]
  },
  {
   "cell_type": "code",
   "execution_count": null,
   "metadata": {},
   "outputs": [],
   "source": []
  }
 ],
 "metadata": {
  "kernelspec": {
   "display_name": "Python 3",
   "language": "python",
   "name": "python3"
  },
  "language_info": {
   "codemirror_mode": {
    "name": "ipython",
    "version": 3
   },
   "file_extension": ".py",
   "mimetype": "text/x-python",
   "name": "python",
   "nbconvert_exporter": "python",
   "pygments_lexer": "ipython3",
   "version": "3.6.6"
  }
 },
 "nbformat": 4,
 "nbformat_minor": 2
}