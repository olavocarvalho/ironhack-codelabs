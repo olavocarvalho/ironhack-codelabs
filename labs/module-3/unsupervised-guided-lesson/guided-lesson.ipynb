{
 "nbformat": 4,
 "nbformat_minor": 2,
 "metadata": {
  "language_info": {
   "name": "python",
   "codemirror_mode": {
    "name": "ipython",
    "version": 3
   }
  },
  "orig_nbformat": 2,
  "file_extension": ".py",
  "mimetype": "text/x-python",
  "name": "python",
  "npconvert_exporter": "python",
  "pygments_lexer": "ipython3",
  "version": 3
 },
 "cells": [
  {
   "cell_type": "code",
   "execution_count": 1,
   "metadata": {},
   "outputs": [],
   "source": [
    "%matplotlib inline\n",
    "import matplotlib.pyplot as plt\n",
    "import numpy as np\n",
    "import pandas as pd\n"
   ]
  },
  {
   "cell_type": "code",
   "execution_count": 6,
   "metadata": {},
   "outputs": [],
   "source": [
    "breadbasket = pd.read_csv('labs/module-3/unsupervised-guided-lesson/BreadBasket_DMS.csv')"
   ]
  },
  {
   "cell_type": "code",
   "execution_count": 9,
   "metadata": {},
   "outputs": [
    {
     "data": {
      "text/plain": "Date           object\nTime           object\nTransaction     int64\nItem           object\ndtype: object"
     },
     "execution_count": 9,
     "metadata": {},
     "output_type": "execute_result"
    }
   ],
   "source": [
    "breadbasket.dtypes"
   ]
  },
  {
   "cell_type": "code",
   "execution_count": 10,
   "metadata": {},
   "outputs": [
    {
     "data": {
      "text/html": "<div>\n<style scoped>\n    .dataframe tbody tr th:only-of-type {\n        vertical-align: middle;\n    }\n\n    .dataframe tbody tr th {\n        vertical-align: top;\n    }\n\n    .dataframe thead th {\n        text-align: right;\n    }\n</style>\n<table border=\"1\" class=\"dataframe\">\n  <thead>\n    <tr style=\"text-align: right;\">\n      <th></th>\n      <th>Date</th>\n      <th>Time</th>\n      <th>Transaction</th>\n      <th>Item</th>\n    </tr>\n  </thead>\n  <tbody>\n    <tr>\n      <th>0</th>\n      <td>2016-10-30</td>\n      <td>09:58:11</td>\n      <td>1</td>\n      <td>Bread</td>\n    </tr>\n    <tr>\n      <th>1</th>\n      <td>2016-10-30</td>\n      <td>10:05:34</td>\n      <td>2</td>\n      <td>Scandinavian</td>\n    </tr>\n    <tr>\n      <th>2</th>\n      <td>2016-10-30</td>\n      <td>10:05:34</td>\n      <td>2</td>\n      <td>Scandinavian</td>\n    </tr>\n    <tr>\n      <th>3</th>\n      <td>2016-10-30</td>\n      <td>10:07:57</td>\n      <td>3</td>\n      <td>Hot chocolate</td>\n    </tr>\n    <tr>\n      <th>4</th>\n      <td>2016-10-30</td>\n      <td>10:07:57</td>\n      <td>3</td>\n      <td>Jam</td>\n    </tr>\n  </tbody>\n</table>\n</div>",
      "text/plain": "         Date      Time  Transaction           Item\n0  2016-10-30  09:58:11            1          Bread\n1  2016-10-30  10:05:34            2   Scandinavian\n2  2016-10-30  10:05:34            2   Scandinavian\n3  2016-10-30  10:07:57            3  Hot chocolate\n4  2016-10-30  10:07:57            3            Jam"
     },
     "execution_count": 10,
     "metadata": {},
     "output_type": "execute_result"
    }
   ],
   "source": [
    "breadbasket.head()"
   ]
  },
  {
   "cell_type": "code",
   "execution_count": 11,
   "metadata": {},
   "outputs": [
    {
     "data": {
      "text/html": "<div>\n<style scoped>\n    .dataframe tbody tr th:only-of-type {\n        vertical-align: middle;\n    }\n\n    .dataframe tbody tr th {\n        vertical-align: top;\n    }\n\n    .dataframe thead th {\n        text-align: right;\n    }\n</style>\n<table border=\"1\" class=\"dataframe\">\n  <thead>\n    <tr style=\"text-align: right;\">\n      <th></th>\n      <th>Transaction</th>\n    </tr>\n  </thead>\n  <tbody>\n    <tr>\n      <th>count</th>\n      <td>21293.000000</td>\n    </tr>\n    <tr>\n      <th>mean</th>\n      <td>4951.990889</td>\n    </tr>\n    <tr>\n      <th>std</th>\n      <td>2787.758400</td>\n    </tr>\n    <tr>\n      <th>min</th>\n      <td>1.000000</td>\n    </tr>\n    <tr>\n      <th>25%</th>\n      <td>2548.000000</td>\n    </tr>\n    <tr>\n      <th>50%</th>\n      <td>5067.000000</td>\n    </tr>\n    <tr>\n      <th>75%</th>\n      <td>7329.000000</td>\n    </tr>\n    <tr>\n      <th>max</th>\n      <td>9684.000000</td>\n    </tr>\n  </tbody>\n</table>\n</div>",
      "text/plain": "        Transaction\ncount  21293.000000\nmean    4951.990889\nstd     2787.758400\nmin        1.000000\n25%     2548.000000\n50%     5067.000000\n75%     7329.000000\nmax     9684.000000"
     },
     "execution_count": 11,
     "metadata": {},
     "output_type": "execute_result"
    }
   ],
   "source": [
    "breadbasket.describe()"
   ]
  },
  {
   "cell_type": "code",
   "execution_count": 12,
   "metadata": {},
   "outputs": [],
   "source": [
    "breadbasket['DateTime'] = pd.to_datetime(breadbasket.Date + ' ' + breadbasket.Time)"
   ]
  },
  {
   "cell_type": "code",
   "execution_count": 13,
   "metadata": {},
   "outputs": [
    {
     "data": {
      "text/plain": "array(['Bread', 'Scandinavian', 'Hot chocolate', 'Jam', 'Cookies',\n       'Muffin', 'Coffee', 'Pastry', 'Medialuna', 'Tea', 'NONE',\n       'Tartine', 'Basket', 'Mineral water', 'Farm House', 'Fudge',\n       'Juice', \"Ella's Kitchen Pouches\", 'Victorian Sponge', 'Frittata',\n       'Hearty & Seasonal', 'Soup', 'Pick and Mix Bowls', 'Smoothies',\n       'Cake', 'Mighty Protein', 'Chicken sand', 'Coke',\n       'My-5 Fruit Shoot', 'Focaccia', 'Sandwich', 'Alfajores', 'Eggs',\n       'Brownie', 'Dulce de Leche', 'Honey', 'The BART', 'Granola',\n       'Fairy Doors', 'Empanadas', 'Keeping It Local', 'Art Tray',\n       'Bowl Nic Pitt', 'Bread Pudding', 'Adjustment', 'Truffles',\n       'Chimichurri Oil', 'Bacon', 'Spread', 'Kids biscuit', 'Siblings',\n       'Caramel bites', 'Jammie Dodgers', 'Tiffin', 'Olum & polenta',\n       'Polenta', 'The Nomad', 'Hack the stack', 'Bakewell',\n       'Lemon and coconut', 'Toast', 'Scone', 'Crepes', 'Vegan mincepie',\n       'Bare Popcorn', 'Muesli', 'Crisps', 'Pintxos', 'Gingerbread syrup',\n       'Panatone', 'Brioche and salami', 'Afternoon with the baker',\n       'Salad', 'Chicken Stew', 'Spanish Brunch',\n       'Raspberry shortbread sandwich', 'Extra Salami or Feta',\n       'Duck egg', 'Baguette', \"Valentine's card\", 'Tshirt',\n       'Vegan Feast', 'Postcard', 'Nomad bag', 'Chocolates',\n       'Coffee granules ', 'Drinking chocolate spoons ',\n       'Christmas common', 'Argentina Night', 'Half slice Monster ',\n       'Gift voucher', 'Cherry me Dried fruit', 'Mortimer', 'Raw bars',\n       'Tacos/Fajita'], dtype=object)"
     },
     "execution_count": 13,
     "metadata": {},
     "output_type": "execute_result"
    }
   ],
   "source": [
    "breadbasket.Item.unique()"
   ]
  },
  {
   "cell_type": "code",
   "execution_count": 14,
   "metadata": {},
   "outputs": [
    {
     "data": {
      "text/plain": "Coffee                           5471\nBread                            3325\nTea                              1435\nCake                             1025\nPastry                            856\nNONE                              786\nSandwich                          771\nMedialuna                         616\nHot chocolate                     590\nCookies                           540\nBrownie                           379\nFarm House                        374\nMuffin                            370\nAlfajores                         369\nJuice                             369\nSoup                              342\nScone                             327\nToast                             318\nScandinavian                      277\nTruffles                          193\nCoke                              185\nSpanish Brunch                    172\nFudge                             159\nBaguette                          152\nJam                               149\nTiffin                            146\nMineral water                     136\nJammie Dodgers                    125\nChicken Stew                      123\nHearty & Seasonal                 107\n                                 ... \nEmpanadas                           7\nCoffee granules                     7\nHoney                               6\nLemon and coconut                   6\nHalf slice Monster                  6\nBasket                              6\nPintxos                             6\nCrepes                              6\nMortimer                            5\nBare Popcorn                        5\nPanatone                            5\nBread Pudding                       4\nCaramel bites                       3\nBrioche and salami                  3\nCherry me Dried fruit               3\nRaspberry shortbread sandwich       3\nFairy Doors                         2\nHack the stack                      2\nBowl Nic Pitt                       2\nChimichurri Oil                     2\nSiblings                            2\nSpread                              2\nThe BART                            1\nGift voucher                        1\nPolenta                             1\nRaw bars                            1\nAdjustment                          1\nChicken sand                        1\nBacon                               1\nOlum & polenta                      1\nName: Item, Length: 95, dtype: int64"
     },
     "execution_count": 14,
     "metadata": {},
     "output_type": "execute_result"
    }
   ],
   "source": [
    "breadbasket.Item.value_counts()\n"
   ]
  },
  {
   "cell_type": "code",
   "execution_count": 15,
   "metadata": {},
   "outputs": [
    {
     "data": {
      "text/html": "<div>\n<style scoped>\n    .dataframe tbody tr th:only-of-type {\n        vertical-align: middle;\n    }\n\n    .dataframe tbody tr th {\n        vertical-align: top;\n    }\n\n    .dataframe thead th {\n        text-align: right;\n    }\n</style>\n<table border=\"1\" class=\"dataframe\">\n  <thead>\n    <tr style=\"text-align: right;\">\n      <th></th>\n      <th>Date</th>\n      <th>Time</th>\n      <th>Transaction</th>\n      <th>Item</th>\n      <th>DateTime</th>\n      <th>beverage</th>\n      <th>other</th>\n      <th>kids</th>\n      <th>snacks</th>\n      <th>bread</th>\n      <th>breakfast_pastry</th>\n      <th>dessert</th>\n      <th>condiments</th>\n      <th>breakfast</th>\n      <th>lunch</th>\n      <th>other_food</th>\n    </tr>\n  </thead>\n  <tbody>\n    <tr>\n      <th>0</th>\n      <td>2016-10-30</td>\n      <td>09:58:11</td>\n      <td>1</td>\n      <td>Bread</td>\n      <td>2016-10-30 09:58:11</td>\n      <td>0</td>\n      <td>0</td>\n      <td>0</td>\n      <td>0</td>\n      <td>1</td>\n      <td>0</td>\n      <td>0</td>\n      <td>0</td>\n      <td>0</td>\n      <td>0</td>\n      <td>0</td>\n    </tr>\n    <tr>\n      <th>1</th>\n      <td>2016-10-30</td>\n      <td>10:05:34</td>\n      <td>2</td>\n      <td>Scandinavian</td>\n      <td>2016-10-30 10:05:34</td>\n      <td>0</td>\n      <td>0</td>\n      <td>0</td>\n      <td>0</td>\n      <td>1</td>\n      <td>0</td>\n      <td>0</td>\n      <td>0</td>\n      <td>0</td>\n      <td>0</td>\n      <td>0</td>\n    </tr>\n    <tr>\n      <th>2</th>\n      <td>2016-10-30</td>\n      <td>10:05:34</td>\n      <td>2</td>\n      <td>Scandinavian</td>\n      <td>2016-10-30 10:05:34</td>\n      <td>0</td>\n      <td>0</td>\n      <td>0</td>\n      <td>0</td>\n      <td>1</td>\n      <td>0</td>\n      <td>0</td>\n      <td>0</td>\n      <td>0</td>\n      <td>0</td>\n      <td>0</td>\n    </tr>\n    <tr>\n      <th>3</th>\n      <td>2016-10-30</td>\n      <td>10:07:57</td>\n      <td>3</td>\n      <td>Hot chocolate</td>\n      <td>2016-10-30 10:07:57</td>\n      <td>1</td>\n      <td>0</td>\n      <td>0</td>\n      <td>0</td>\n      <td>0</td>\n      <td>0</td>\n      <td>0</td>\n      <td>0</td>\n      <td>0</td>\n      <td>0</td>\n      <td>0</td>\n    </tr>\n    <tr>\n      <th>4</th>\n      <td>2016-10-30</td>\n      <td>10:07:57</td>\n      <td>3</td>\n      <td>Jam</td>\n      <td>2016-10-30 10:07:57</td>\n      <td>0</td>\n      <td>0</td>\n      <td>0</td>\n      <td>0</td>\n      <td>0</td>\n      <td>0</td>\n      <td>0</td>\n      <td>1</td>\n      <td>0</td>\n      <td>0</td>\n      <td>0</td>\n    </tr>\n  </tbody>\n</table>\n</div>",
      "text/plain": "         Date      Time  Transaction           Item            DateTime  \\\n0  2016-10-30  09:58:11            1          Bread 2016-10-30 09:58:11   \n1  2016-10-30  10:05:34            2   Scandinavian 2016-10-30 10:05:34   \n2  2016-10-30  10:05:34            2   Scandinavian 2016-10-30 10:05:34   \n3  2016-10-30  10:07:57            3  Hot chocolate 2016-10-30 10:07:57   \n4  2016-10-30  10:07:57            3            Jam 2016-10-30 10:07:57   \n\n   beverage  other  kids  snacks  bread  breakfast_pastry  dessert  \\\n0         0      0     0       0      1                 0        0   \n1         0      0     0       0      1                 0        0   \n2         0      0     0       0      1                 0        0   \n3         1      0     0       0      0                 0        0   \n4         0      0     0       0      0                 0        0   \n\n   condiments  breakfast  lunch  other_food  \n0           0          0      0           0  \n1           0          0      0           0  \n2           0          0      0           0  \n3           0          0      0           0  \n4           1          0      0           0  "
     },
     "execution_count": 15,
     "metadata": {},
     "output_type": "execute_result"
    }
   ],
   "source": [
    "beverage = ['Hot chocolate', 'Coffee', 'Tea', 'Mineral water', 'Juice', 'Coke', 'Smoothies']\n",
    "other = ['NONE', 'Christmas common', 'Gift voucher', \"Valentine's card\", 'Tshirt', 'Afternoon with the baker', 'Postcard', 'Siblings', 'Nomad bag', 'Adjustment', 'Drinking chocolate spoons ', 'Coffee granules ']\n",
    "kids = [\"Ella's Kitchen Pouches\", 'My-5 Fruit Shoot', 'Kids biscuit']\n",
    "snacks = ['Mighty Protein', 'Pick and Mix Bowls', 'Caramel bites', 'Bare Popcorn', 'Crisps', 'Cherry me Dried fruit', 'Raw bars']\n",
    "bread = ['Bread', 'Toast', 'Baguette', 'Focaccia', 'Scandinavian']\n",
    "breakfast_pastry = ['Muffin', 'Pastry', 'Medialuna', 'Scone']\n",
    "dessert = ['Cookies', 'Tartine', 'Fudge', 'Victorian Sponge', 'Cake', 'Alfajores', 'Brownie', 'Bread Pudding', 'Bakewell', 'Raspberry shortbread sandwich', 'Lemon and coconut', 'Crepes', 'Chocolates', 'Truffles', 'Panatone']\n",
    "condiments = ['Jam', 'Dulce de Leche', 'Honey', 'Gingerbread syrup', 'Extra Salami or Feta', 'Bacon', 'Spread', 'Chimichurri Oil']\n",
    "breakfast = ['Eggs', 'Frittata', 'Granola', 'Muesli', 'Duck egg', 'Brioche and salami']\n",
    "lunch = ['Soup', 'Sandwich', 'Chicken sand', 'Salad', 'Chicken Stew']\n",
    "other_food = [x for x in breadbasket.Item.unique() if x not in beverage \n",
    "                and x not in other and x not in kids and x not in snacks \n",
    "                and x not in bread and x not in breakfast_pastry \n",
    "                and x not in dessert and x not in condiments \n",
    "                and x not in breakfast and x not in lunch]\n",
    "\n",
    "breadbasket['beverage'] = np.where(breadbasket.Item.isin(beverage), 1, 0)\n",
    "breadbasket['other'] = np.where(breadbasket.Item.isin(other), 1, 0)\n",
    "breadbasket['kids'] = np.where(breadbasket.Item.isin(kids), 1, 0)\n",
    "breadbasket['snacks'] = np.where(breadbasket.Item.isin(snacks), 1, 0)\n",
    "breadbasket['bread'] = np.where(breadbasket.Item.isin(bread), 1, 0)\n",
    "breadbasket['breakfast_pastry'] = np.where(breadbasket.Item.isin(breakfast_pastry), 1, 0)\n",
    "breadbasket['dessert'] = np.where(breadbasket.Item.isin(dessert), 1, 0)\n",
    "breadbasket['condiments'] = np.where(breadbasket.Item.isin(condiments), 1, 0)\n",
    "breadbasket['breakfast'] = np.where(breadbasket.Item.isin(breakfast), 1, 0)\n",
    "breadbasket['lunch'] = np.where(breadbasket.Item.isin(lunch), 1, 0)\n",
    "breadbasket['other_food'] = np.where(breadbasket.Item.isin(other_food), 1, 0)\n",
    "breadbasket.head()"
   ]
  },
  {
   "cell_type": "code",
   "execution_count": 16,
   "metadata": {},
   "outputs": [],
   "source": [
    "bread_group = breadbasket.groupby(['Transaction', 'DateTime']).sum()"
   ]
  },
  {
   "cell_type": "code",
   "execution_count": 17,
   "metadata": {},
   "outputs": [
    {
     "data": {
      "text/html": "<div>\n<style scoped>\n    .dataframe tbody tr th:only-of-type {\n        vertical-align: middle;\n    }\n\n    .dataframe tbody tr th {\n        vertical-align: top;\n    }\n\n    .dataframe thead th {\n        text-align: right;\n    }\n</style>\n<table border=\"1\" class=\"dataframe\">\n  <thead>\n    <tr style=\"text-align: right;\">\n      <th></th>\n      <th></th>\n      <th>beverage</th>\n      <th>other</th>\n      <th>kids</th>\n      <th>snacks</th>\n      <th>bread</th>\n      <th>breakfast_pastry</th>\n      <th>dessert</th>\n      <th>condiments</th>\n      <th>breakfast</th>\n      <th>lunch</th>\n      <th>other_food</th>\n    </tr>\n    <tr>\n      <th>Transaction</th>\n      <th>DateTime</th>\n      <th></th>\n      <th></th>\n      <th></th>\n      <th></th>\n      <th></th>\n      <th></th>\n      <th></th>\n      <th></th>\n      <th></th>\n      <th></th>\n      <th></th>\n    </tr>\n  </thead>\n  <tbody>\n    <tr>\n      <th>1</th>\n      <th>2016-10-30 09:58:11</th>\n      <td>0</td>\n      <td>0</td>\n      <td>0</td>\n      <td>0</td>\n      <td>1</td>\n      <td>0</td>\n      <td>0</td>\n      <td>0</td>\n      <td>0</td>\n      <td>0</td>\n      <td>0</td>\n    </tr>\n    <tr>\n      <th>2</th>\n      <th>2016-10-30 10:05:34</th>\n      <td>0</td>\n      <td>0</td>\n      <td>0</td>\n      <td>0</td>\n      <td>2</td>\n      <td>0</td>\n      <td>0</td>\n      <td>0</td>\n      <td>0</td>\n      <td>0</td>\n      <td>0</td>\n    </tr>\n    <tr>\n      <th>3</th>\n      <th>2016-10-30 10:07:57</th>\n      <td>1</td>\n      <td>0</td>\n      <td>0</td>\n      <td>0</td>\n      <td>0</td>\n      <td>0</td>\n      <td>1</td>\n      <td>1</td>\n      <td>0</td>\n      <td>0</td>\n      <td>0</td>\n    </tr>\n    <tr>\n      <th>4</th>\n      <th>2016-10-30 10:08:41</th>\n      <td>0</td>\n      <td>0</td>\n      <td>0</td>\n      <td>0</td>\n      <td>0</td>\n      <td>1</td>\n      <td>0</td>\n      <td>0</td>\n      <td>0</td>\n      <td>0</td>\n      <td>0</td>\n    </tr>\n    <tr>\n      <th>5</th>\n      <th>2016-10-30 10:13:03</th>\n      <td>1</td>\n      <td>0</td>\n      <td>0</td>\n      <td>0</td>\n      <td>1</td>\n      <td>1</td>\n      <td>0</td>\n      <td>0</td>\n      <td>0</td>\n      <td>0</td>\n      <td>0</td>\n    </tr>\n    <tr>\n      <th>6</th>\n      <th>2016-10-30 10:16:55</th>\n      <td>0</td>\n      <td>0</td>\n      <td>0</td>\n      <td>0</td>\n      <td>0</td>\n      <td>3</td>\n      <td>0</td>\n      <td>0</td>\n      <td>0</td>\n      <td>0</td>\n      <td>0</td>\n    </tr>\n    <tr>\n      <th>7</th>\n      <th>2016-10-30 10:19:12</th>\n      <td>2</td>\n      <td>0</td>\n      <td>0</td>\n      <td>0</td>\n      <td>0</td>\n      <td>2</td>\n      <td>0</td>\n      <td>0</td>\n      <td>0</td>\n      <td>0</td>\n      <td>0</td>\n    </tr>\n    <tr>\n      <th>8</th>\n      <th>2016-10-30 10:20:51</th>\n      <td>0</td>\n      <td>0</td>\n      <td>0</td>\n      <td>0</td>\n      <td>1</td>\n      <td>1</td>\n      <td>0</td>\n      <td>0</td>\n      <td>0</td>\n      <td>0</td>\n      <td>0</td>\n    </tr>\n    <tr>\n      <th>9</th>\n      <th>2016-10-30 10:21:59</th>\n      <td>0</td>\n      <td>0</td>\n      <td>0</td>\n      <td>0</td>\n      <td>1</td>\n      <td>1</td>\n      <td>0</td>\n      <td>0</td>\n      <td>0</td>\n      <td>0</td>\n      <td>0</td>\n    </tr>\n    <tr>\n      <th>10</th>\n      <th>2016-10-30 10:25:58</th>\n      <td>0</td>\n      <td>0</td>\n      <td>0</td>\n      <td>0</td>\n      <td>1</td>\n      <td>1</td>\n      <td>0</td>\n      <td>0</td>\n      <td>0</td>\n      <td>0</td>\n      <td>0</td>\n    </tr>\n    <tr>\n      <th>11</th>\n      <th>2016-10-30 10:27:21</th>\n      <td>0</td>\n      <td>1</td>\n      <td>0</td>\n      <td>0</td>\n      <td>2</td>\n      <td>1</td>\n      <td>0</td>\n      <td>0</td>\n      <td>0</td>\n      <td>0</td>\n      <td>0</td>\n    </tr>\n    <tr>\n      <th>12</th>\n      <th>2016-10-30 10:30:14</th>\n      <td>2</td>\n      <td>0</td>\n      <td>0</td>\n      <td>0</td>\n      <td>0</td>\n      <td>1</td>\n      <td>1</td>\n      <td>1</td>\n      <td>0</td>\n      <td>0</td>\n      <td>0</td>\n    </tr>\n    <tr>\n      <th>13</th>\n      <th>2016-10-30 10:31:24</th>\n      <td>1</td>\n      <td>0</td>\n      <td>0</td>\n      <td>0</td>\n      <td>1</td>\n      <td>0</td>\n      <td>0</td>\n      <td>0</td>\n      <td>0</td>\n      <td>0</td>\n      <td>1</td>\n    </tr>\n    <tr>\n      <th>14</th>\n      <th>2016-10-30 10:32:46</th>\n      <td>0</td>\n      <td>0</td>\n      <td>0</td>\n      <td>0</td>\n      <td>1</td>\n      <td>2</td>\n      <td>0</td>\n      <td>0</td>\n      <td>0</td>\n      <td>0</td>\n      <td>0</td>\n    </tr>\n    <tr>\n      <th>15</th>\n      <th>2016-10-30 10:34:36</th>\n      <td>1</td>\n      <td>2</td>\n      <td>0</td>\n      <td>0</td>\n      <td>1</td>\n      <td>0</td>\n      <td>0</td>\n      <td>0</td>\n      <td>0</td>\n      <td>0</td>\n      <td>0</td>\n    </tr>\n    <tr>\n      <th>16</th>\n      <th>2016-10-30 10:37:08</th>\n      <td>1</td>\n      <td>0</td>\n      <td>0</td>\n      <td>0</td>\n      <td>1</td>\n      <td>1</td>\n      <td>0</td>\n      <td>0</td>\n      <td>0</td>\n      <td>0</td>\n      <td>0</td>\n    </tr>\n    <tr>\n      <th>17</th>\n      <th>2016-10-30 10:38:04</th>\n      <td>1</td>\n      <td>0</td>\n      <td>0</td>\n      <td>0</td>\n      <td>0</td>\n      <td>0</td>\n      <td>0</td>\n      <td>0</td>\n      <td>0</td>\n      <td>0</td>\n      <td>0</td>\n    </tr>\n    <tr>\n      <th>18</th>\n      <th>2016-10-30 10:41:56</th>\n      <td>0</td>\n      <td>0</td>\n      <td>0</td>\n      <td>0</td>\n      <td>0</td>\n      <td>0</td>\n      <td>0</td>\n      <td>0</td>\n      <td>0</td>\n      <td>0</td>\n      <td>1</td>\n    </tr>\n    <tr>\n      <th>19</th>\n      <th>2016-10-30 10:43:08</th>\n      <td>0</td>\n      <td>0</td>\n      <td>0</td>\n      <td>0</td>\n      <td>1</td>\n      <td>0</td>\n      <td>0</td>\n      <td>0</td>\n      <td>0</td>\n      <td>0</td>\n      <td>1</td>\n    </tr>\n    <tr>\n      <th>20</th>\n      <th>2016-10-30 10:45:22</th>\n      <td>0</td>\n      <td>0</td>\n      <td>0</td>\n      <td>0</td>\n      <td>1</td>\n      <td>1</td>\n      <td>0</td>\n      <td>0</td>\n      <td>0</td>\n      <td>0</td>\n      <td>0</td>\n    </tr>\n    <tr>\n      <th>21</th>\n      <th>2016-10-30 10:49:29</th>\n      <td>2</td>\n      <td>0</td>\n      <td>0</td>\n      <td>0</td>\n      <td>1</td>\n      <td>1</td>\n      <td>0</td>\n      <td>0</td>\n      <td>0</td>\n      <td>0</td>\n      <td>0</td>\n    </tr>\n    <tr>\n      <th>22</th>\n      <th>2016-10-30 10:52:15</th>\n      <td>0</td>\n      <td>0</td>\n      <td>0</td>\n      <td>0</td>\n      <td>0</td>\n      <td>0</td>\n      <td>0</td>\n      <td>1</td>\n      <td>0</td>\n      <td>0</td>\n      <td>0</td>\n    </tr>\n    <tr>\n      <th>23</th>\n      <th>2016-10-30 10:53:49</th>\n      <td>0</td>\n      <td>0</td>\n      <td>0</td>\n      <td>0</td>\n      <td>1</td>\n      <td>1</td>\n      <td>0</td>\n      <td>0</td>\n      <td>0</td>\n      <td>0</td>\n      <td>0</td>\n    </tr>\n    <tr>\n      <th>24</th>\n      <th>2016-10-30 10:54:33</th>\n      <td>0</td>\n      <td>0</td>\n      <td>0</td>\n      <td>0</td>\n      <td>1</td>\n      <td>0</td>\n      <td>0</td>\n      <td>0</td>\n      <td>0</td>\n      <td>0</td>\n      <td>0</td>\n    </tr>\n    <tr>\n      <th>25</th>\n      <th>2016-10-30 10:55:22</th>\n      <td>0</td>\n      <td>0</td>\n      <td>0</td>\n      <td>0</td>\n      <td>1</td>\n      <td>0</td>\n      <td>0</td>\n      <td>0</td>\n      <td>0</td>\n      <td>0</td>\n      <td>0</td>\n    </tr>\n    <tr>\n      <th>26</th>\n      <th>2016-10-30 10:56:08</th>\n      <td>0</td>\n      <td>0</td>\n      <td>0</td>\n      <td>0</td>\n      <td>0</td>\n      <td>0</td>\n      <td>1</td>\n      <td>0</td>\n      <td>0</td>\n      <td>0</td>\n      <td>0</td>\n    </tr>\n    <tr>\n      <th>27</th>\n      <th>2016-10-30 11:02:19</th>\n      <td>0</td>\n      <td>0</td>\n      <td>0</td>\n      <td>0</td>\n      <td>1</td>\n      <td>0</td>\n      <td>0</td>\n      <td>0</td>\n      <td>0</td>\n      <td>0</td>\n      <td>0</td>\n    </tr>\n    <tr>\n      <th>28</th>\n      <th>2016-10-30 11:03:24</th>\n      <td>1</td>\n      <td>0</td>\n      <td>0</td>\n      <td>0</td>\n      <td>1</td>\n      <td>0</td>\n      <td>0</td>\n      <td>0</td>\n      <td>0</td>\n      <td>0</td>\n      <td>0</td>\n    </tr>\n    <tr>\n      <th>29</th>\n      <th>2016-10-30 11:05:30</th>\n      <td>0</td>\n      <td>1</td>\n      <td>0</td>\n      <td>0</td>\n      <td>1</td>\n      <td>0</td>\n      <td>0</td>\n      <td>1</td>\n      <td>0</td>\n      <td>0</td>\n      <td>0</td>\n    </tr>\n    <tr>\n      <th>30</th>\n      <th>2016-10-30 11:07:19</th>\n      <td>0</td>\n      <td>0</td>\n      <td>0</td>\n      <td>0</td>\n      <td>1</td>\n      <td>0</td>\n      <td>0</td>\n      <td>0</td>\n      <td>0</td>\n      <td>0</td>\n      <td>0</td>\n    </tr>\n    <tr>\n      <th>...</th>\n      <th>...</th>\n      <td>...</td>\n      <td>...</td>\n      <td>...</td>\n      <td>...</td>\n      <td>...</td>\n      <td>...</td>\n      <td>...</td>\n      <td>...</td>\n      <td>...</td>\n      <td>...</td>\n      <td>...</td>\n    </tr>\n    <tr>\n      <th>9651</th>\n      <th>2017-04-09 10:08:23</th>\n      <td>1</td>\n      <td>0</td>\n      <td>0</td>\n      <td>0</td>\n      <td>0</td>\n      <td>1</td>\n      <td>0</td>\n      <td>0</td>\n      <td>0</td>\n      <td>0</td>\n      <td>0</td>\n    </tr>\n    <tr>\n      <th>9652</th>\n      <th>2017-04-09 10:36:11</th>\n      <td>0</td>\n      <td>0</td>\n      <td>0</td>\n      <td>0</td>\n      <td>1</td>\n      <td>0</td>\n      <td>0</td>\n      <td>0</td>\n      <td>0</td>\n      <td>0</td>\n      <td>0</td>\n    </tr>\n    <tr>\n      <th>9653</th>\n      <th>2017-04-09 10:39:07</th>\n      <td>1</td>\n      <td>0</td>\n      <td>0</td>\n      <td>0</td>\n      <td>0</td>\n      <td>0</td>\n      <td>1</td>\n      <td>0</td>\n      <td>0</td>\n      <td>0</td>\n      <td>0</td>\n    </tr>\n    <tr>\n      <th>9654</th>\n      <th>2017-04-09 10:52:02</th>\n      <td>1</td>\n      <td>0</td>\n      <td>1</td>\n      <td>0</td>\n      <td>0</td>\n      <td>0</td>\n      <td>0</td>\n      <td>0</td>\n      <td>0</td>\n      <td>0</td>\n      <td>1</td>\n    </tr>\n    <tr>\n      <th>9655</th>\n      <th>2017-04-09 11:14:28</th>\n      <td>1</td>\n      <td>0</td>\n      <td>0</td>\n      <td>0</td>\n      <td>0</td>\n      <td>0</td>\n      <td>0</td>\n      <td>0</td>\n      <td>0</td>\n      <td>0</td>\n      <td>0</td>\n    </tr>\n    <tr>\n      <th>9656</th>\n      <th>2017-04-09 11:17:43</th>\n      <td>1</td>\n      <td>0</td>\n      <td>0</td>\n      <td>0</td>\n      <td>1</td>\n      <td>0</td>\n      <td>0</td>\n      <td>0</td>\n      <td>0</td>\n      <td>0</td>\n      <td>0</td>\n    </tr>\n    <tr>\n      <th>9657</th>\n      <th>2017-04-09 11:22:01</th>\n      <td>1</td>\n      <td>0</td>\n      <td>0</td>\n      <td>0</td>\n      <td>0</td>\n      <td>0</td>\n      <td>0</td>\n      <td>0</td>\n      <td>0</td>\n      <td>0</td>\n      <td>0</td>\n    </tr>\n    <tr>\n      <th>9658</th>\n      <th>2017-04-09 11:30:22</th>\n      <td>1</td>\n      <td>0</td>\n      <td>0</td>\n      <td>0</td>\n      <td>0</td>\n      <td>0</td>\n      <td>0</td>\n      <td>1</td>\n      <td>0</td>\n      <td>0</td>\n      <td>1</td>\n    </tr>\n    <tr>\n      <th>9659</th>\n      <th>2017-04-09 11:31:15</th>\n      <td>2</td>\n      <td>0</td>\n      <td>0</td>\n      <td>0</td>\n      <td>0</td>\n      <td>0</td>\n      <td>1</td>\n      <td>0</td>\n      <td>0</td>\n      <td>0</td>\n      <td>0</td>\n    </tr>\n    <tr>\n      <th>9660</th>\n      <th>2017-04-09 11:34:01</th>\n      <td>0</td>\n      <td>0</td>\n      <td>0</td>\n      <td>0</td>\n      <td>1</td>\n      <td>0</td>\n      <td>0</td>\n      <td>0</td>\n      <td>0</td>\n      <td>0</td>\n      <td>0</td>\n    </tr>\n    <tr>\n      <th>9664</th>\n      <th>2017-04-09 11:40:10</th>\n      <td>2</td>\n      <td>0</td>\n      <td>0</td>\n      <td>0</td>\n      <td>1</td>\n      <td>0</td>\n      <td>0</td>\n      <td>0</td>\n      <td>0</td>\n      <td>0</td>\n      <td>0</td>\n    </tr>\n    <tr>\n      <th>9665</th>\n      <th>2017-04-09 11:59:57</th>\n      <td>2</td>\n      <td>0</td>\n      <td>0</td>\n      <td>0</td>\n      <td>0</td>\n      <td>0</td>\n      <td>0</td>\n      <td>0</td>\n      <td>0</td>\n      <td>0</td>\n      <td>1</td>\n    </tr>\n    <tr>\n      <th>9666</th>\n      <th>2017-04-09 12:01:07</th>\n      <td>1</td>\n      <td>1</td>\n      <td>0</td>\n      <td>0</td>\n      <td>0</td>\n      <td>0</td>\n      <td>0</td>\n      <td>0</td>\n      <td>0</td>\n      <td>0</td>\n      <td>0</td>\n    </tr>\n    <tr>\n      <th>9667</th>\n      <th>2017-04-09 12:04:13</th>\n      <td>0</td>\n      <td>1</td>\n      <td>0</td>\n      <td>0</td>\n      <td>1</td>\n      <td>0</td>\n      <td>0</td>\n      <td>0</td>\n      <td>0</td>\n      <td>2</td>\n      <td>0</td>\n    </tr>\n    <tr>\n      <th>9668</th>\n      <th>2017-04-09 12:07:57</th>\n      <td>1</td>\n      <td>0</td>\n      <td>0</td>\n      <td>0</td>\n      <td>1</td>\n      <td>0</td>\n      <td>0</td>\n      <td>0</td>\n      <td>0</td>\n      <td>0</td>\n      <td>0</td>\n    </tr>\n    <tr>\n      <th>9669</th>\n      <th>2017-04-09 12:15:00</th>\n      <td>0</td>\n      <td>0</td>\n      <td>0</td>\n      <td>0</td>\n      <td>0</td>\n      <td>0</td>\n      <td>0</td>\n      <td>0</td>\n      <td>0</td>\n      <td>0</td>\n      <td>1</td>\n    </tr>\n    <tr>\n      <th>9670</th>\n      <th>2017-04-09 12:22:40</th>\n      <td>0</td>\n      <td>0</td>\n      <td>0</td>\n      <td>0</td>\n      <td>0</td>\n      <td>0</td>\n      <td>0</td>\n      <td>0</td>\n      <td>0</td>\n      <td>0</td>\n      <td>1</td>\n    </tr>\n    <tr>\n      <th>9671</th>\n      <th>2017-04-09 12:28:01</th>\n      <td>0</td>\n      <td>0</td>\n      <td>0</td>\n      <td>0</td>\n      <td>1</td>\n      <td>0</td>\n      <td>0</td>\n      <td>0</td>\n      <td>0</td>\n      <td>0</td>\n      <td>0</td>\n    </tr>\n    <tr>\n      <th>9672</th>\n      <th>2017-04-09 12:31:28</th>\n      <td>1</td>\n      <td>1</td>\n      <td>0</td>\n      <td>0</td>\n      <td>0</td>\n      <td>0</td>\n      <td>1</td>\n      <td>1</td>\n      <td>0</td>\n      <td>0</td>\n      <td>0</td>\n    </tr>\n    <tr>\n      <th>9673</th>\n      <th>2017-04-09 12:32:03</th>\n      <td>1</td>\n      <td>0</td>\n      <td>0</td>\n      <td>0</td>\n      <td>1</td>\n      <td>0</td>\n      <td>0</td>\n      <td>0</td>\n      <td>0</td>\n      <td>0</td>\n      <td>1</td>\n    </tr>\n    <tr>\n      <th>9674</th>\n      <th>2017-04-09 13:04:08</th>\n      <td>1</td>\n      <td>0</td>\n      <td>0</td>\n      <td>0</td>\n      <td>0</td>\n      <td>0</td>\n      <td>0</td>\n      <td>0</td>\n      <td>0</td>\n      <td>0</td>\n      <td>0</td>\n    </tr>\n    <tr>\n      <th>9676</th>\n      <th>2017-04-09 13:06:34</th>\n      <td>1</td>\n      <td>0</td>\n      <td>0</td>\n      <td>0</td>\n      <td>0</td>\n      <td>0</td>\n      <td>0</td>\n      <td>0</td>\n      <td>0</td>\n      <td>1</td>\n      <td>0</td>\n    </tr>\n    <tr>\n      <th>9677</th>\n      <th>2017-04-09 13:20:23</th>\n      <td>1</td>\n      <td>0</td>\n      <td>0</td>\n      <td>0</td>\n      <td>0</td>\n      <td>0</td>\n      <td>0</td>\n      <td>0</td>\n      <td>0</td>\n      <td>0</td>\n      <td>1</td>\n    </tr>\n    <tr>\n      <th>9678</th>\n      <th>2017-04-09 13:49:21</th>\n      <td>1</td>\n      <td>0</td>\n      <td>0</td>\n      <td>0</td>\n      <td>1</td>\n      <td>0</td>\n      <td>0</td>\n      <td>0</td>\n      <td>0</td>\n      <td>0</td>\n      <td>1</td>\n    </tr>\n    <tr>\n      <th>9679</th>\n      <th>2017-04-09 14:08:37</th>\n      <td>0</td>\n      <td>0</td>\n      <td>0</td>\n      <td>0</td>\n      <td>1</td>\n      <td>0</td>\n      <td>0</td>\n      <td>0</td>\n      <td>0</td>\n      <td>0</td>\n      <td>1</td>\n    </tr>\n    <tr>\n      <th>9680</th>\n      <th>2017-04-09 14:24:03</th>\n      <td>0</td>\n      <td>0</td>\n      <td>0</td>\n      <td>0</td>\n      <td>1</td>\n      <td>0</td>\n      <td>0</td>\n      <td>0</td>\n      <td>0</td>\n      <td>0</td>\n      <td>0</td>\n    </tr>\n    <tr>\n      <th>9681</th>\n      <th>2017-04-09 14:30:09</th>\n      <td>1</td>\n      <td>1</td>\n      <td>0</td>\n      <td>0</td>\n      <td>0</td>\n      <td>0</td>\n      <td>1</td>\n      <td>0</td>\n      <td>0</td>\n      <td>0</td>\n      <td>1</td>\n    </tr>\n    <tr>\n      <th>9682</th>\n      <th>2017-04-09 14:32:58</th>\n      <td>2</td>\n      <td>0</td>\n      <td>0</td>\n      <td>0</td>\n      <td>0</td>\n      <td>1</td>\n      <td>0</td>\n      <td>0</td>\n      <td>0</td>\n      <td>0</td>\n      <td>1</td>\n    </tr>\n    <tr>\n      <th>9683</th>\n      <th>2017-04-09 14:57:06</th>\n      <td>1</td>\n      <td>0</td>\n      <td>0</td>\n      <td>0</td>\n      <td>0</td>\n      <td>1</td>\n      <td>0</td>\n      <td>0</td>\n      <td>0</td>\n      <td>0</td>\n      <td>0</td>\n    </tr>\n    <tr>\n      <th>9684</th>\n      <th>2017-04-09 15:04:24</th>\n      <td>1</td>\n      <td>0</td>\n      <td>0</td>\n      <td>0</td>\n      <td>0</td>\n      <td>0</td>\n      <td>0</td>\n      <td>0</td>\n      <td>0</td>\n      <td>0</td>\n      <td>0</td>\n    </tr>\n  </tbody>\n</table>\n<p>9531 rows × 11 columns</p>\n</div>",
      "text/plain": "                                 beverage  other  kids  snacks  bread  \\\nTransaction DateTime                                                    \n1           2016-10-30 09:58:11         0      0     0       0      1   \n2           2016-10-30 10:05:34         0      0     0       0      2   \n3           2016-10-30 10:07:57         1      0     0       0      0   \n4           2016-10-30 10:08:41         0      0     0       0      0   \n5           2016-10-30 10:13:03         1      0     0       0      1   \n6           2016-10-30 10:16:55         0      0     0       0      0   \n7           2016-10-30 10:19:12         2      0     0       0      0   \n8           2016-10-30 10:20:51         0      0     0       0      1   \n9           2016-10-30 10:21:59         0      0     0       0      1   \n10          2016-10-30 10:25:58         0      0     0       0      1   \n11          2016-10-30 10:27:21         0      1     0       0      2   \n12          2016-10-30 10:30:14         2      0     0       0      0   \n13          2016-10-30 10:31:24         1      0     0       0      1   \n14          2016-10-30 10:32:46         0      0     0       0      1   \n15          2016-10-30 10:34:36         1      2     0       0      1   \n16          2016-10-30 10:37:08         1      0     0       0      1   \n17          2016-10-30 10:38:04         1      0     0       0      0   \n18          2016-10-30 10:41:56         0      0     0       0      0   \n19          2016-10-30 10:43:08         0      0     0       0      1   \n20          2016-10-30 10:45:22         0      0     0       0      1   \n21          2016-10-30 10:49:29         2      0     0       0      1   \n22          2016-10-30 10:52:15         0      0     0       0      0   \n23          2016-10-30 10:53:49         0      0     0       0      1   \n24          2016-10-30 10:54:33         0      0     0       0      1   \n25          2016-10-30 10:55:22         0      0     0       0      1   \n26          2016-10-30 10:56:08         0      0     0       0      0   \n27          2016-10-30 11:02:19         0      0     0       0      1   \n28          2016-10-30 11:03:24         1      0     0       0      1   \n29          2016-10-30 11:05:30         0      1     0       0      1   \n30          2016-10-30 11:07:19         0      0     0       0      1   \n...                                   ...    ...   ...     ...    ...   \n9651        2017-04-09 10:08:23         1      0     0       0      0   \n9652        2017-04-09 10:36:11         0      0     0       0      1   \n9653        2017-04-09 10:39:07         1      0     0       0      0   \n9654        2017-04-09 10:52:02         1      0     1       0      0   \n9655        2017-04-09 11:14:28         1      0     0       0      0   \n9656        2017-04-09 11:17:43         1      0     0       0      1   \n9657        2017-04-09 11:22:01         1      0     0       0      0   \n9658        2017-04-09 11:30:22         1      0     0       0      0   \n9659        2017-04-09 11:31:15         2      0     0       0      0   \n9660        2017-04-09 11:34:01         0      0     0       0      1   \n9664        2017-04-09 11:40:10         2      0     0       0      1   \n9665        2017-04-09 11:59:57         2      0     0       0      0   \n9666        2017-04-09 12:01:07         1      1     0       0      0   \n9667        2017-04-09 12:04:13         0      1     0       0      1   \n9668        2017-04-09 12:07:57         1      0     0       0      1   \n9669        2017-04-09 12:15:00         0      0     0       0      0   \n9670        2017-04-09 12:22:40         0      0     0       0      0   \n9671        2017-04-09 12:28:01         0      0     0       0      1   \n9672        2017-04-09 12:31:28         1      1     0       0      0   \n9673        2017-04-09 12:32:03         1      0     0       0      1   \n9674        2017-04-09 13:04:08         1      0     0       0      0   \n9676        2017-04-09 13:06:34         1      0     0       0      0   \n9677        2017-04-09 13:20:23         1      0     0       0      0   \n9678        2017-04-09 13:49:21         1      0     0       0      1   \n9679        2017-04-09 14:08:37         0      0     0       0      1   \n9680        2017-04-09 14:24:03         0      0     0       0      1   \n9681        2017-04-09 14:30:09         1      1     0       0      0   \n9682        2017-04-09 14:32:58         2      0     0       0      0   \n9683        2017-04-09 14:57:06         1      0     0       0      0   \n9684        2017-04-09 15:04:24         1      0     0       0      0   \n\n                                 breakfast_pastry  dessert  condiments  \\\nTransaction DateTime                                                     \n1           2016-10-30 09:58:11                 0        0           0   \n2           2016-10-30 10:05:34                 0        0           0   \n3           2016-10-30 10:07:57                 0        1           1   \n4           2016-10-30 10:08:41                 1        0           0   \n5           2016-10-30 10:13:03                 1        0           0   \n6           2016-10-30 10:16:55                 3        0           0   \n7           2016-10-30 10:19:12                 2        0           0   \n8           2016-10-30 10:20:51                 1        0           0   \n9           2016-10-30 10:21:59                 1        0           0   \n10          2016-10-30 10:25:58                 1        0           0   \n11          2016-10-30 10:27:21                 1        0           0   \n12          2016-10-30 10:30:14                 1        1           1   \n13          2016-10-30 10:31:24                 0        0           0   \n14          2016-10-30 10:32:46                 2        0           0   \n15          2016-10-30 10:34:36                 0        0           0   \n16          2016-10-30 10:37:08                 1        0           0   \n17          2016-10-30 10:38:04                 0        0           0   \n18          2016-10-30 10:41:56                 0        0           0   \n19          2016-10-30 10:43:08                 0        0           0   \n20          2016-10-30 10:45:22                 1        0           0   \n21          2016-10-30 10:49:29                 1        0           0   \n22          2016-10-30 10:52:15                 0        0           1   \n23          2016-10-30 10:53:49                 1        0           0   \n24          2016-10-30 10:54:33                 0        0           0   \n25          2016-10-30 10:55:22                 0        0           0   \n26          2016-10-30 10:56:08                 0        1           0   \n27          2016-10-30 11:02:19                 0        0           0   \n28          2016-10-30 11:03:24                 0        0           0   \n29          2016-10-30 11:05:30                 0        0           1   \n30          2016-10-30 11:07:19                 0        0           0   \n...                                           ...      ...         ...   \n9651        2017-04-09 10:08:23                 1        0           0   \n9652        2017-04-09 10:36:11                 0        0           0   \n9653        2017-04-09 10:39:07                 0        1           0   \n9654        2017-04-09 10:52:02                 0        0           0   \n9655        2017-04-09 11:14:28                 0        0           0   \n9656        2017-04-09 11:17:43                 0        0           0   \n9657        2017-04-09 11:22:01                 0        0           0   \n9658        2017-04-09 11:30:22                 0        0           1   \n9659        2017-04-09 11:31:15                 0        1           0   \n9660        2017-04-09 11:34:01                 0        0           0   \n9664        2017-04-09 11:40:10                 0        0           0   \n9665        2017-04-09 11:59:57                 0        0           0   \n9666        2017-04-09 12:01:07                 0        0           0   \n9667        2017-04-09 12:04:13                 0        0           0   \n9668        2017-04-09 12:07:57                 0        0           0   \n9669        2017-04-09 12:15:00                 0        0           0   \n9670        2017-04-09 12:22:40                 0        0           0   \n9671        2017-04-09 12:28:01                 0        0           0   \n9672        2017-04-09 12:31:28                 0        1           1   \n9673        2017-04-09 12:32:03                 0        0           0   \n9674        2017-04-09 13:04:08                 0        0           0   \n9676        2017-04-09 13:06:34                 0        0           0   \n9677        2017-04-09 13:20:23                 0        0           0   \n9678        2017-04-09 13:49:21                 0        0           0   \n9679        2017-04-09 14:08:37                 0        0           0   \n9680        2017-04-09 14:24:03                 0        0           0   \n9681        2017-04-09 14:30:09                 0        1           0   \n9682        2017-04-09 14:32:58                 1        0           0   \n9683        2017-04-09 14:57:06                 1        0           0   \n9684        2017-04-09 15:04:24                 0        0           0   \n\n                                 breakfast  lunch  other_food  \nTransaction DateTime                                           \n1           2016-10-30 09:58:11          0      0           0  \n2           2016-10-30 10:05:34          0      0           0  \n3           2016-10-30 10:07:57          0      0           0  \n4           2016-10-30 10:08:41          0      0           0  \n5           2016-10-30 10:13:03          0      0           0  \n6           2016-10-30 10:16:55          0      0           0  \n7           2016-10-30 10:19:12          0      0           0  \n8           2016-10-30 10:20:51          0      0           0  \n9           2016-10-30 10:21:59          0      0           0  \n10          2016-10-30 10:25:58          0      0           0  \n11          2016-10-30 10:27:21          0      0           0  \n12          2016-10-30 10:30:14          0      0           0  \n13          2016-10-30 10:31:24          0      0           1  \n14          2016-10-30 10:32:46          0      0           0  \n15          2016-10-30 10:34:36          0      0           0  \n16          2016-10-30 10:37:08          0      0           0  \n17          2016-10-30 10:38:04          0      0           0  \n18          2016-10-30 10:41:56          0      0           1  \n19          2016-10-30 10:43:08          0      0           1  \n20          2016-10-30 10:45:22          0      0           0  \n21          2016-10-30 10:49:29          0      0           0  \n22          2016-10-30 10:52:15          0      0           0  \n23          2016-10-30 10:53:49          0      0           0  \n24          2016-10-30 10:54:33          0      0           0  \n25          2016-10-30 10:55:22          0      0           0  \n26          2016-10-30 10:56:08          0      0           0  \n27          2016-10-30 11:02:19          0      0           0  \n28          2016-10-30 11:03:24          0      0           0  \n29          2016-10-30 11:05:30          0      0           0  \n30          2016-10-30 11:07:19          0      0           0  \n...                                    ...    ...         ...  \n9651        2017-04-09 10:08:23          0      0           0  \n9652        2017-04-09 10:36:11          0      0           0  \n9653        2017-04-09 10:39:07          0      0           0  \n9654        2017-04-09 10:52:02          0      0           1  \n9655        2017-04-09 11:14:28          0      0           0  \n9656        2017-04-09 11:17:43          0      0           0  \n9657        2017-04-09 11:22:01          0      0           0  \n9658        2017-04-09 11:30:22          0      0           1  \n9659        2017-04-09 11:31:15          0      0           0  \n9660        2017-04-09 11:34:01          0      0           0  \n9664        2017-04-09 11:40:10          0      0           0  \n9665        2017-04-09 11:59:57          0      0           1  \n9666        2017-04-09 12:01:07          0      0           0  \n9667        2017-04-09 12:04:13          0      2           0  \n9668        2017-04-09 12:07:57          0      0           0  \n9669        2017-04-09 12:15:00          0      0           1  \n9670        2017-04-09 12:22:40          0      0           1  \n9671        2017-04-09 12:28:01          0      0           0  \n9672        2017-04-09 12:31:28          0      0           0  \n9673        2017-04-09 12:32:03          0      0           1  \n9674        2017-04-09 13:04:08          0      0           0  \n9676        2017-04-09 13:06:34          0      1           0  \n9677        2017-04-09 13:20:23          0      0           1  \n9678        2017-04-09 13:49:21          0      0           1  \n9679        2017-04-09 14:08:37          0      0           1  \n9680        2017-04-09 14:24:03          0      0           0  \n9681        2017-04-09 14:30:09          0      0           1  \n9682        2017-04-09 14:32:58          0      0           1  \n9683        2017-04-09 14:57:06          0      0           0  \n9684        2017-04-09 15:04:24          0      0           0  \n\n[9531 rows x 11 columns]"
     },
     "execution_count": 17,
     "metadata": {},
     "output_type": "execute_result"
    }
   ],
   "source": [
    "bread_group"
   ]
  },
  {
   "cell_type": "code",
   "execution_count": 18,
   "metadata": {},
   "outputs": [],
   "source": [
    "bread_group.reset_index(level=['DateTime'], inplace=True)"
   ]
  },
  {
   "cell_type": "code",
   "execution_count": 19,
   "metadata": {},
   "outputs": [
    {
     "data": {
      "text/plain": "Saturday     2068\nFriday       1488\nSunday       1264\nThursday     1252\nTuesday      1203\nMonday       1135\nWednesday    1121\nName: day, dtype: int64"
     },
     "execution_count": 19,
     "metadata": {},
     "output_type": "execute_result"
    }
   ],
   "source": [
    "bread_group['hour'] = bread_group.DateTime.dt.hour\n",
    "bread_group['day'] = bread_group.DateTime.dt.day_name()\n",
    "bread_group.day.value_counts()"
   ]
  },
  {
   "cell_type": "code",
   "execution_count": 20,
   "metadata": {},
   "outputs": [
    {
     "data": {
      "text/plain": "11    1445\n12    1347\n10    1267\n13    1163\n14    1130\n9     1007\n15     924\n16     583\n8      375\n17     160\n18      52\n19      34\n7       16\n20      15\n22       7\n23       3\n21       2\n1        1\nName: hour, dtype: int64"
     },
     "execution_count": 20,
     "metadata": {},
     "output_type": "execute_result"
    }
   ],
   "source": [
    "bread_group.hour.value_counts()"
   ]
  },
  {
   "cell_type": "code",
   "execution_count": 21,
   "metadata": {},
   "outputs": [],
   "source": [
    "bread_days = pd.get_dummies(data=bread_group, columns=['day'])\n",
    "bread_days.drop(columns='DateTime', inplace=True, axis=1)"
   ]
  },
  {
   "cell_type": "code",
   "execution_count": 22,
   "metadata": {},
   "outputs": [
    {
     "data": {
      "text/html": "<div>\n<style scoped>\n    .dataframe tbody tr th:only-of-type {\n        vertical-align: middle;\n    }\n\n    .dataframe tbody tr th {\n        vertical-align: top;\n    }\n\n    .dataframe thead th {\n        text-align: right;\n    }\n</style>\n<table border=\"1\" class=\"dataframe\">\n  <thead>\n    <tr style=\"text-align: right;\">\n      <th></th>\n      <th>pc1</th>\n      <th>pc2</th>\n      <th>pc3</th>\n      <th>pc4</th>\n    </tr>\n  </thead>\n  <tbody>\n    <tr>\n      <th>0</th>\n      <td>3.197413</td>\n      <td>-0.926669</td>\n      <td>0.244932</td>\n      <td>0.005984</td>\n    </tr>\n    <tr>\n      <th>1</th>\n      <td>2.227896</td>\n      <td>-1.274346</td>\n      <td>1.183369</td>\n      <td>-0.159228</td>\n    </tr>\n    <tr>\n      <th>2</th>\n      <td>2.107647</td>\n      <td>0.424883</td>\n      <td>-0.219755</td>\n      <td>0.879702</td>\n    </tr>\n    <tr>\n      <th>3</th>\n      <td>2.198960</td>\n      <td>-0.580674</td>\n      <td>-0.783353</td>\n      <td>-0.031000</td>\n    </tr>\n    <tr>\n      <th>4</th>\n      <td>2.206812</td>\n      <td>0.037386</td>\n      <td>0.443746</td>\n      <td>-0.333641</td>\n    </tr>\n  </tbody>\n</table>\n</div>",
      "text/plain": "        pc1       pc2       pc3       pc4\n0  3.197413 -0.926669  0.244932  0.005984\n1  2.227896 -1.274346  1.183369 -0.159228\n2  2.107647  0.424883 -0.219755  0.879702\n3  2.198960 -0.580674 -0.783353 -0.031000\n4  2.206812  0.037386  0.443746 -0.333641"
     },
     "execution_count": 22,
     "metadata": {},
     "output_type": "execute_result"
    }
   ],
   "source": [
    "from sklearn.decomposition import PCA\n",
    "\n",
    "pca = PCA(n_components=4)\n",
    "\n",
    "principalComponents = pca.fit_transform(bread_days)\n",
    "principalDf = pd.DataFrame(data = principalComponents, columns=['pc1', 'pc2', 'pc3', 'pc4'])\n",
    "\n",
    "principalDf.head()"
   ]
  },
  {
   "cell_type": "code",
   "execution_count": 25,
   "metadata": {},
   "outputs": [
    {
     "data": {
      "text/plain": "array([[-3.60462547, -0.01924714,  0.03546255,  0.00546569],\n       [ 1.15806071,  1.01157091,  0.05413   , -0.04011857],\n       [-1.34129166,  0.00408512, -0.03671377, -0.00363864],\n       [ 2.92919828, -0.17832596, -0.03030742,  0.0038523 ],\n       [ 0.5622989 , -0.50646718,  0.01193694,  0.02418642]])"
     },
     "execution_count": 25,
     "metadata": {},
     "output_type": "execute_result"
    }
   ],
   "source": [
    "from sklearn.cluster import KMeans\n",
    "\n",
    "kmeans = KMeans(n_clusters=5)\n",
    "\n",
    "bread_clusters = kmeans.fit(principalDf)\n",
    "\n",
    "bread_clusters.cluster_centers_"
   ]
  },
  {
   "cell_type": "code",
   "execution_count": 27,
   "metadata": {},
   "outputs": [],
   "source": [
    "bread_days['labels'] = bread_clusters.fit_predict(principalDf)"
   ]
  },
  {
   "cell_type": "code",
   "execution_count": 29,
   "metadata": {},
   "outputs": [
    {
     "data": {
      "text/html": "<div>\n<style scoped>\n    .dataframe tbody tr th:only-of-type {\n        vertical-align: middle;\n    }\n\n    .dataframe tbody tr th {\n        vertical-align: top;\n    }\n\n    .dataframe thead th {\n        text-align: right;\n    }\n</style>\n<table border=\"1\" class=\"dataframe\">\n  <thead>\n    <tr style=\"text-align: right;\">\n      <th></th>\n      <th>Date</th>\n      <th>Time</th>\n      <th>Transaction</th>\n      <th>Item</th>\n      <th>DateTime</th>\n      <th>beverage</th>\n      <th>other</th>\n      <th>kids</th>\n      <th>snacks</th>\n      <th>bread</th>\n      <th>breakfast_pastry</th>\n      <th>dessert</th>\n      <th>condiments</th>\n      <th>breakfast</th>\n      <th>lunch</th>\n      <th>other_food</th>\n      <th>labels</th>\n    </tr>\n  </thead>\n  <tbody>\n    <tr>\n      <th>0</th>\n      <td>2016-10-30</td>\n      <td>09:58:11</td>\n      <td>1</td>\n      <td>Bread</td>\n      <td>2016-10-30 09:58:11</td>\n      <td>0</td>\n      <td>0</td>\n      <td>0</td>\n      <td>0</td>\n      <td>1</td>\n      <td>0</td>\n      <td>0</td>\n      <td>0</td>\n      <td>0</td>\n      <td>0</td>\n      <td>0</td>\n      <td>0</td>\n    </tr>\n    <tr>\n      <th>1</th>\n      <td>2016-10-30</td>\n      <td>10:05:34</td>\n      <td>2</td>\n      <td>Scandinavian</td>\n      <td>2016-10-30 10:05:34</td>\n      <td>0</td>\n      <td>0</td>\n      <td>0</td>\n      <td>0</td>\n      <td>1</td>\n      <td>0</td>\n      <td>0</td>\n      <td>0</td>\n      <td>0</td>\n      <td>0</td>\n      <td>0</td>\n      <td>2</td>\n    </tr>\n    <tr>\n      <th>2</th>\n      <td>2016-10-30</td>\n      <td>10:05:34</td>\n      <td>2</td>\n      <td>Scandinavian</td>\n      <td>2016-10-30 10:05:34</td>\n      <td>0</td>\n      <td>0</td>\n      <td>0</td>\n      <td>0</td>\n      <td>1</td>\n      <td>0</td>\n      <td>0</td>\n      <td>0</td>\n      <td>0</td>\n      <td>0</td>\n      <td>0</td>\n      <td>2</td>\n    </tr>\n    <tr>\n      <th>3</th>\n      <td>2016-10-30</td>\n      <td>10:07:57</td>\n      <td>3</td>\n      <td>Hot chocolate</td>\n      <td>2016-10-30 10:07:57</td>\n      <td>1</td>\n      <td>0</td>\n      <td>0</td>\n      <td>0</td>\n      <td>0</td>\n      <td>0</td>\n      <td>0</td>\n      <td>0</td>\n      <td>0</td>\n      <td>0</td>\n      <td>0</td>\n      <td>2</td>\n    </tr>\n    <tr>\n      <th>4</th>\n      <td>2016-10-30</td>\n      <td>10:07:57</td>\n      <td>3</td>\n      <td>Jam</td>\n      <td>2016-10-30 10:07:57</td>\n      <td>0</td>\n      <td>0</td>\n      <td>0</td>\n      <td>0</td>\n      <td>0</td>\n      <td>0</td>\n      <td>0</td>\n      <td>1</td>\n      <td>0</td>\n      <td>0</td>\n      <td>0</td>\n      <td>2</td>\n    </tr>\n  </tbody>\n</table>\n</div>",
      "text/plain": "         Date      Time  Transaction           Item            DateTime  \\\n0  2016-10-30  09:58:11            1          Bread 2016-10-30 09:58:11   \n1  2016-10-30  10:05:34            2   Scandinavian 2016-10-30 10:05:34   \n2  2016-10-30  10:05:34            2   Scandinavian 2016-10-30 10:05:34   \n3  2016-10-30  10:07:57            3  Hot chocolate 2016-10-30 10:07:57   \n4  2016-10-30  10:07:57            3            Jam 2016-10-30 10:07:57   \n\n   beverage  other  kids  snacks  bread  breakfast_pastry  dessert  \\\n0         0      0     0       0      1                 0        0   \n1         0      0     0       0      1                 0        0   \n2         0      0     0       0      1                 0        0   \n3         1      0     0       0      0                 0        0   \n4         0      0     0       0      0                 0        0   \n\n   condiments  breakfast  lunch  other_food  labels  \n0           0          0      0           0       0  \n1           0          0      0           0       2  \n2           0          0      0           0       2  \n3           0          0      0           0       2  \n4           1          0      0           0       2  "
     },
     "execution_count": 29,
     "metadata": {},
     "output_type": "execute_result"
    }
   ],
   "source": [
    "bread_days.reset_index('Transaction', inplace=True)\n",
    "bread_merged = pd.merge(breadbasket, bread_days[['Transaction', 'labels']], on='Transaction', how='outer')\n",
    "bread_merged.head()"
   ]
  },
  {
   "cell_type": "code",
   "execution_count": 30,
   "metadata": {},
   "outputs": [
    {
     "data": {
      "text/plain": "2    5979\n1    5797\n4    4883\n0    2740\n3    1894\nName: labels, dtype: int64"
     },
     "execution_count": 30,
     "metadata": {},
     "output_type": "execute_result"
    }
   ],
   "source": [
    "bread_merged.labels.value_counts()"
   ]
  },
  {
   "cell_type": "code",
   "execution_count": 31,
   "metadata": {},
   "outputs": [
    {
     "data": {
      "text/html": "<div>\n<style scoped>\n    .dataframe tbody tr th:only-of-type {\n        vertical-align: middle;\n    }\n\n    .dataframe tbody tr th {\n        vertical-align: top;\n    }\n\n    .dataframe thead th {\n        text-align: right;\n    }\n</style>\n<table border=\"1\" class=\"dataframe\">\n  <thead>\n    <tr style=\"text-align: right;\">\n      <th>labels</th>\n      <th>0</th>\n      <th>1</th>\n      <th>2</th>\n      <th>3</th>\n      <th>4</th>\n    </tr>\n    <tr>\n      <th>hour</th>\n      <th></th>\n      <th></th>\n      <th></th>\n      <th></th>\n      <th></th>\n    </tr>\n  </thead>\n  <tbody>\n    <tr>\n      <th>1</th>\n      <td>1</td>\n      <td>0</td>\n      <td>0</td>\n      <td>0</td>\n      <td>0</td>\n    </tr>\n    <tr>\n      <th>7</th>\n      <td>16</td>\n      <td>0</td>\n      <td>0</td>\n      <td>0</td>\n      <td>0</td>\n    </tr>\n    <tr>\n      <th>8</th>\n      <td>375</td>\n      <td>0</td>\n      <td>0</td>\n      <td>0</td>\n      <td>0</td>\n    </tr>\n    <tr>\n      <th>9</th>\n      <td>1007</td>\n      <td>0</td>\n      <td>0</td>\n      <td>0</td>\n      <td>0</td>\n    </tr>\n    <tr>\n      <th>10</th>\n      <td>0</td>\n      <td>0</td>\n      <td>1267</td>\n      <td>0</td>\n      <td>0</td>\n    </tr>\n    <tr>\n      <th>11</th>\n      <td>0</td>\n      <td>0</td>\n      <td>1445</td>\n      <td>0</td>\n      <td>0</td>\n    </tr>\n    <tr>\n      <th>12</th>\n      <td>0</td>\n      <td>1347</td>\n      <td>0</td>\n      <td>0</td>\n      <td>0</td>\n    </tr>\n    <tr>\n      <th>13</th>\n      <td>0</td>\n      <td>1163</td>\n      <td>0</td>\n      <td>0</td>\n      <td>0</td>\n    </tr>\n    <tr>\n      <th>14</th>\n      <td>0</td>\n      <td>0</td>\n      <td>0</td>\n      <td>0</td>\n      <td>1130</td>\n    </tr>\n    <tr>\n      <th>15</th>\n      <td>0</td>\n      <td>0</td>\n      <td>0</td>\n      <td>0</td>\n      <td>924</td>\n    </tr>\n    <tr>\n      <th>16</th>\n      <td>0</td>\n      <td>0</td>\n      <td>0</td>\n      <td>583</td>\n      <td>0</td>\n    </tr>\n    <tr>\n      <th>17</th>\n      <td>0</td>\n      <td>0</td>\n      <td>0</td>\n      <td>160</td>\n      <td>0</td>\n    </tr>\n    <tr>\n      <th>18</th>\n      <td>0</td>\n      <td>0</td>\n      <td>0</td>\n      <td>52</td>\n      <td>0</td>\n    </tr>\n    <tr>\n      <th>19</th>\n      <td>0</td>\n      <td>0</td>\n      <td>0</td>\n      <td>34</td>\n      <td>0</td>\n    </tr>\n    <tr>\n      <th>20</th>\n      <td>0</td>\n      <td>0</td>\n      <td>0</td>\n      <td>15</td>\n      <td>0</td>\n    </tr>\n    <tr>\n      <th>21</th>\n      <td>0</td>\n      <td>0</td>\n      <td>0</td>\n      <td>2</td>\n      <td>0</td>\n    </tr>\n    <tr>\n      <th>22</th>\n      <td>0</td>\n      <td>0</td>\n      <td>0</td>\n      <td>7</td>\n      <td>0</td>\n    </tr>\n    <tr>\n      <th>23</th>\n      <td>0</td>\n      <td>0</td>\n      <td>0</td>\n      <td>3</td>\n      <td>0</td>\n    </tr>\n  </tbody>\n</table>\n</div>",
      "text/plain": "labels     0     1     2    3     4\nhour                               \n1          1     0     0    0     0\n7         16     0     0    0     0\n8        375     0     0    0     0\n9       1007     0     0    0     0\n10         0     0  1267    0     0\n11         0     0  1445    0     0\n12         0  1347     0    0     0\n13         0  1163     0    0     0\n14         0     0     0    0  1130\n15         0     0     0    0   924\n16         0     0     0  583     0\n17         0     0     0  160     0\n18         0     0     0   52     0\n19         0     0     0   34     0\n20         0     0     0   15     0\n21         0     0     0    2     0\n22         0     0     0    7     0\n23         0     0     0    3     0"
     },
     "execution_count": 31,
     "metadata": {},
     "output_type": "execute_result"
    }
   ],
   "source": [
    "pd.crosstab(bread_days.hour,bread_days.labels)\n"
   ]
  },
  {
   "cell_type": "code",
   "execution_count": 32,
   "metadata": {},
   "outputs": [
    {
     "data": {
      "text/html": "<div>\n<style scoped>\n    .dataframe tbody tr th:only-of-type {\n        vertical-align: middle;\n    }\n\n    .dataframe tbody tr th {\n        vertical-align: top;\n    }\n\n    .dataframe thead th {\n        text-align: right;\n    }\n</style>\n<table border=\"1\" class=\"dataframe\">\n  <thead>\n    <tr style=\"text-align: right;\">\n      <th>labels</th>\n      <th>0</th>\n      <th>1</th>\n      <th>2</th>\n      <th>3</th>\n      <th>4</th>\n    </tr>\n    <tr>\n      <th>day</th>\n      <th></th>\n      <th></th>\n      <th></th>\n      <th></th>\n      <th></th>\n    </tr>\n  </thead>\n  <tbody>\n    <tr>\n      <th>Friday</th>\n      <td>157</td>\n      <td>378</td>\n      <td>474</td>\n      <td>127</td>\n      <td>332</td>\n    </tr>\n    <tr>\n      <th>Monday</th>\n      <td>196</td>\n      <td>276</td>\n      <td>310</td>\n      <td>115</td>\n      <td>238</td>\n    </tr>\n    <tr>\n      <th>Saturday</th>\n      <td>209</td>\n      <td>530</td>\n      <td>561</td>\n      <td>205</td>\n      <td>470</td>\n    </tr>\n    <tr>\n      <th>Sunday</th>\n      <td>171</td>\n      <td>369</td>\n      <td>344</td>\n      <td>88</td>\n      <td>260</td>\n    </tr>\n    <tr>\n      <th>Thursday</th>\n      <td>226</td>\n      <td>337</td>\n      <td>382</td>\n      <td>104</td>\n      <td>203</td>\n    </tr>\n    <tr>\n      <th>Tuesday</th>\n      <td>193</td>\n      <td>271</td>\n      <td>360</td>\n      <td>95</td>\n      <td>284</td>\n    </tr>\n    <tr>\n      <th>Wednesday</th>\n      <td>230</td>\n      <td>300</td>\n      <td>244</td>\n      <td>110</td>\n      <td>237</td>\n    </tr>\n  </tbody>\n</table>\n</div>",
      "text/plain": "labels       0    1    2    3    4\nday                               \nFriday     157  378  474  127  332\nMonday     196  276  310  115  238\nSaturday   209  530  561  205  470\nSunday     171  369  344   88  260\nThursday   226  337  382  104  203\nTuesday    193  271  360   95  284\nWednesday  230  300  244  110  237"
     },
     "execution_count": 32,
     "metadata": {},
     "output_type": "execute_result"
    }
   ],
   "source": [
    "pd.crosstab(bread_group.day,bread_days.labels)\n"
   ]
  },
  {
   "cell_type": "code",
   "execution_count": 33,
   "metadata": {},
   "outputs": [
    {
     "data": {
      "text/plain": "labels  Item         \n0       Coffee            795\n        Bread             574\n        Pastry            250\n        Medialuna         169\n        Tea               124\n1       Coffee           1347\n        Bread             814\n        Sandwich          396\n        Tea               364\n        NONE              326\n2       Coffee           1766\n        Bread            1036\n        Pastry            354\n        Tea               332\n        Medialuna         233\n3       Coffee            408\n        Bread             250\n        Tea               175\n        Cake              154\n        Hot chocolate      94\n4       Coffee           1155\n        Bread             651\n        Tea               440\n        Cake              356\n        Sandwich          246\nName: counts, dtype: int64"
     },
     "execution_count": 33,
     "metadata": {},
     "output_type": "execute_result"
    }
   ],
   "source": [
    "a = bread_merged.groupby(['labels']).Item.value_counts()\n",
    "b = a.to_frame(\"counts\").reset_index()\n",
    "b.set_index(\"Item\", inplace=True)\n",
    "b.groupby('labels').counts.nlargest(5)"
   ]
  },
  {
   "cell_type": "code",
   "execution_count": null,
   "metadata": {},
   "outputs": [],
   "source": []
  }
 ]
}