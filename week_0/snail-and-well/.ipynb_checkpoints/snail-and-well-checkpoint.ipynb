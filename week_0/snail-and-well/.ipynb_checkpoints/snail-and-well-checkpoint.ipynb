{
 "cells": [
  {
   "cell_type": "markdown",
   "metadata": {},
   "source": [
    "# Snail and well\n",
    "\n",
    "A snail falls at the bottom of a 125 cm well. Each day the snail rises 30 cm. But at night, while sleeping, slides 20 cm because the walls are wet. How many days does it take to escape from the well?\n",
    "\n",
    "TIP: http://puzzles.nigelcoldwell.co.uk/sixtytwo.htm"
   ]
  },
  {
   "cell_type": "markdown",
   "metadata": {},
   "source": [
    "## Solution"
   ]
  },
  {
   "cell_type": "code",
   "execution_count": 6,
   "metadata": {},
   "outputs": [
    {
     "name": "stdout",
     "output_type": "stream",
     "text": [
      "Days = 10\n"
     ]
    }
   ],
   "source": [
    "# Assign problem data to variables with representative names\n",
    "# well height, daily advance, night retreat, accumulated distance\n",
    "WELL_HEIGHT = 125\n",
    "DAILY_ADVANCE = 30\n",
    "NIGHT_RETREAT = 20\n",
    "accumulated_distance = 0\n",
    "\n",
    "\n",
    "# Assign 0 to the variable that represents the solution\n",
    "days = 0\n",
    "\n",
    "\n",
    "# Write the code that solves the problem\n",
    "while accumulated_distance < WELL_HEIGHT: \n",
    "    accumulated_distance +=  DAILY_ADVANCE\n",
    "    if accumulated_distance < WELL_HEIGHT:\n",
    "        days += 1f\n",
    "    accumulated_distance -= NIGHT_RETREAT\n",
    "\n",
    "\n",
    "# Print the result with print('Days =', days)\n",
    "print('Days =', days)"
   ]
  },
  {
   "cell_type": "markdown",
   "metadata": {},
   "source": [
    "## Goals\n",
    "\n",
    "1. Treatment of variables\n",
    "2. Use of loop **while**\n",
    "3. Use of conditional **if-else**\n",
    "4. Print in console"
   ]
  },
  {
   "cell_type": "markdown",
   "metadata": {},
   "source": [
    "## Bonus\n",
    "The distance traveled by the snail is now defined by a list.\n",
    "```\n",
    "advance_cm = [30, 21, 33, 77, 44, 45, 23, 45, 12, 34, 55]\n",
    "```\n",
    "How long does it take to raise the well?\n",
    "\n",
    "What is its maximum displacement in one day? And its minimum?\n",
    "\n",
    "What is its average speed during the day?\n",
    "\n",
    "What is the standard deviation of its displacement during the day?"
   ]
  },
  {
   "cell_type": "code",
   "execution_count": 1,
   "metadata": {},
   "outputs": [
    {
     "name": "stdout",
     "output_type": "stream",
     "text": [
      "Days = 5\n",
      "[30, 21, 33, 77, 44] 77 21\n",
      "41.0\n",
      "19.44222209522358\n"
     ]
    }
   ],
   "source": [
    "# Assign problem data to variables with representative names\n",
    "# well height, daily advance, night retreat, accumulated distance\n",
    "import numpy as np\n",
    "WELL_HEIGHT = 125\n",
    "DAILY_ADVANCE = 30\n",
    "NIGHT_RETREAT = 20\n",
    "ADVANCE_CM = [30, 21, 33, 77, 44, 45, 23, 45, 12, 34, 55]\n",
    "\n",
    "accumulated_distance = 0\n",
    "\n",
    "\n",
    "# Assign 0 to the variable that represents the solution\n",
    "days = 0\n",
    "\n",
    "# Write the code that solves the problem\n",
    "for advance in ADVANCE_CM: \n",
    "    accumulated_distance +=  advance\n",
    "    days += 1\n",
    "    if accumulated_distance >= WELL_HEIGHT:\n",
    "        break\n",
    "    accumulated_distance -= NIGHT_RETREAT\n",
    "\n",
    "# Print the result with print('Days =', days)\n",
    "print('Days =', days)\n",
    "\n",
    "# What is its maximum displacement in a day? And its minimum?\n",
    "\n",
    "advanced = ADVANCE_CM[:days]\n",
    "maximum = max(advanced)\n",
    "minimum = min(advanced)\n",
    "\n",
    "print(advanced, maximum, minimum)\n",
    "\n",
    "\n",
    "\n",
    "# What is its average progress?\n",
    "print(np.mean(advanced))\n",
    "\n",
    "\n",
    "# What is the standard deviation of your displacement during the day?\n",
    "print(np.std(advanced))\n"
   ]
  },
  {
   "cell_type": "code",
   "execution_count": 38,
   "metadata": {},
   "outputs": [
    {
     "name": "stdout",
     "output_type": "stream",
     "text": [
      "Requirement already satisfied: numpy in /Library/Frameworks/Python.framework/Versions/3.6/lib/python3.6/site-packages (1.16.4)\r\n"
     ]
    }
   ],
   "source": []
  },
  {
   "cell_type": "code",
   "execution_count": null,
   "metadata": {},
   "outputs": [],
   "source": []
  }
 ],
 "metadata": {
  "kernelspec": {
   "display_name": "Python 3",
   "language": "python",
   "name": "python3"
  },
  "language_info": {
   "codemirror_mode": {
    "name": "ipython",
    "version": 3
   },
   "file_extension": ".py",
   "mimetype": "text/x-python",
   "name": "python",
   "nbconvert_exporter": "python",
   "pygments_lexer": "ipython3",
   "version": "3.6.6rc1"
  }
 },
 "nbformat": 4,
 "nbformat_minor": 2
}
